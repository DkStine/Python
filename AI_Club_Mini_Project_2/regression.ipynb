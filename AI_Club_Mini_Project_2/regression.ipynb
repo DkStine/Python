{
  "cells": [
    {
      "cell_type": "code",
      "execution_count": null,
      "metadata": {
        "id": "9wWeVm1GPkmm"
      },
      "outputs": [],
      "source": [
        "# Module Imports\n",
        "import matplotlib.pyplot as plt\n",
        "import pandas as pd\n",
        "import math\n",
        "import csv\n",
        "from sklearn.model_selection import train_test_split\n",
        "from sklearn.preprocessing import StandardScaler, PolynomialFeatures\n",
        "from sklearn.linear_model import LinearRegression\n",
        "from sklearn.metrics import mean_absolute_error, r2_score"
      ]
    },
    {
      "cell_type": "code",
      "execution_count": null,
      "metadata": {
        "id": "adFkJXUPPkmp"
      },
      "outputs": [],
      "source": [
        "df = pd.read_csv(\"train.csv\")\n",
        "# df.round(1)"
      ]
    },
    {
      "cell_type": "code",
      "execution_count": null,
      "metadata": {
        "id": "bkoWTAzrPkmq"
      },
      "outputs": [],
      "source": [
        "df[\"var13\"] = df[\"var13\"].astype(\"category\")\n",
        "df[\"var13\"] = df[\"var13\"].cat.codes\n",
        "df[\"var15\"] = df[\"var15\"].astype(\"category\")\n",
        "df[\"var15\"] = df[\"var15\"].cat.codes\n",
        "df"
      ]
    },
    {
      "cell_type": "code",
      "execution_count": null,
      "metadata": {
        "id": "g1x14fV5Pkmr"
      },
      "outputs": [],
      "source": [
        "df.isna().sum()"
      ]
    },
    {
      "cell_type": "code",
      "execution_count": null,
      "metadata": {
        "id": "lh96WTJpPkmr"
      },
      "outputs": [],
      "source": [
        "df['var5'].fillna(df.var5.median(), inplace= True)\n",
        "df['var6'].fillna(df.var6.median(), inplace= True)\n",
        "df['var7'].fillna(df.var7.median(), inplace= True)\n",
        "df['var8'].fillna(df.var8.median(), inplace= True)\n",
        "df['var9'].fillna(df.var9.median(), inplace= True)\n",
        "df['var10'].fillna(df.var10.median(), inplace= True)\n",
        "df['var11'].fillna(df.var11.median(), inplace= True)\n",
        "df['var12'].fillna(df.var12.median(), inplace= True)\n",
        "df['var14'].fillna(df.var14.median(), inplace= True)\n",
        "df['target'].fillna(df.target.median(), inplace= True)\n"
      ]
    },
    {
      "cell_type": "code",
      "execution_count": null,
      "metadata": {
        "id": "KsSnSDTOPkms"
      },
      "outputs": [],
      "source": [
        "df.isna().sum()"
      ]
    },
    {
      "cell_type": "code",
      "execution_count": null,
      "metadata": {
        "id": "kZWio0jwPkmt"
      },
      "outputs": [],
      "source": [
        "x = df.drop(columns= ['target', 'ID'])\n",
        "y = df['target']\n",
        "\n",
        "x_train, x_test, y_train, y_test = train_test_split(x, y, test_size= 0.25, random_state= 1)\n",
        "x_test"
      ]
    },
    {
      "cell_type": "code",
      "execution_count": null,
      "metadata": {
        "id": "26H3FjNNPkmt"
      },
      "outputs": [],
      "source": [
        "scaler = StandardScaler()\n",
        "\n",
        "x_train_scaler = scaler.fit_transform(x_train)\n",
        "x_test_scaler = scaler.transform(x_test)"
      ]
    },
    {
      "cell_type": "code",
      "execution_count": null,
      "metadata": {
        "id": "uPX7l-0PPkmt"
      },
      "outputs": [],
      "source": [
        "lin = LinearRegression()\n",
        "poly = PolynomialFeatures(degree= 2)\n",
        "\n",
        "x_train_poly = poly.fit_transform(x_train_scaler)\n",
        "x_test_poly = poly.transform(x_test_scaler)\n",
        "poly.fit(x_train_poly, y_train)\n",
        "lin.fit(x_train_poly, y_train)"
      ]
    },
    {
      "cell_type": "code",
      "execution_count": null,
      "metadata": {
        "id": "nn5rh1YBPkmt"
      },
      "outputs": [],
      "source": [
        "y_train_pred = lin.predict(x_train_poly)\n",
        "mean_absolute_error(y_train, y_train_pred)\n",
        "r2_score(y_train, y_train_pred)\n"
      ]
    },
    {
      "cell_type": "code",
      "execution_count": null,
      "metadata": {
        "id": "iHGH7FGYPkmu"
      },
      "outputs": [],
      "source": [
        "y_test_pred = lin.predict(x_test_poly)\n",
        "mean_absolute_error(y_test, y_test_pred)\n",
        "r2_score(y_test, y_test_pred)"
      ]
    },
    {
      "cell_type": "code",
      "execution_count": null,
      "metadata": {
        "id": "VfdfgmHIZ4ES"
      },
      "outputs": [],
      "source": [
        "plt.scatter(y_train, y_train_pred)\n",
        "plt.show()\n",
        "plt.scatter(y_test, y_test_pred)\n",
        "plt.show()"
      ]
    },
    {
      "cell_type": "code",
      "execution_count": null,
      "metadata": {
        "id": "VGo_hfr9Pkmu"
      },
      "outputs": [],
      "source": [
        "df_test = pd.read_csv(\"test.csv\")"
      ]
    },
    {
      "cell_type": "code",
      "execution_count": null,
      "metadata": {
        "id": "L0aR395HPkmu"
      },
      "outputs": [],
      "source": [
        "df_test[\"var13\"] = df_test[\"var13\"].astype(\"category\")\n",
        "df_test[\"var13\"] = df_test[\"var13\"].cat.codes\n",
        "df_test[\"var15\"] = df_test[\"var15\"].astype(\"category\")\n",
        "df_test[\"var15\"] = df_test[\"var15\"].cat.codes"
      ]
    },
    {
      "cell_type": "code",
      "execution_count": null,
      "metadata": {
        "id": "77pjOvXsPkmu"
      },
      "outputs": [],
      "source": [
        "df_test['var13'].fillna(df_test.var13.median(), inplace= True)"
      ]
    },
    {
      "cell_type": "code",
      "execution_count": null,
      "metadata": {
        "id": "CvHpJRVmPkmv"
      },
      "outputs": [],
      "source": [
        "features = df_test.drop(columns= ['ID'])\n",
        "features"
      ]
    },
    {
      "cell_type": "code",
      "execution_count": null,
      "metadata": {
        "id": "ZRzTZs1RPkmv"
      },
      "outputs": [],
      "source": [
        "features_scalar = scaler.fit_transform(features)\n",
        "features_poly = poly.fit_transform(features_scalar)\n",
        "\n",
        "predict = lin.predict(features_poly)"
      ]
    },
    {
      "cell_type": "code",
      "execution_count": null,
      "metadata": {
        "id": "GwT5c7tuVDQc"
      },
      "outputs": [],
      "source": [
        "filename = \"submission.csv\"\n",
        "\n",
        "fields = [\"ID\", \"target\"]\n",
        "rows = []\n",
        "\n",
        "id = 1\n",
        "\n",
        "for i in predict:\n",
        "  rows.append([id, i])\n",
        "  id += 1\n",
        "\n",
        "print(rows)\n",
        "\n",
        "with open(filename, \"w\") as csvfile:\n",
        "  csvwriter = csv.writer(csvfile)\n",
        "  csvwriter.writerow(fields)\n",
        "  csvwriter.writerows(rows)"
      ]
    }
  ],
  "metadata": {
    "colab": {
      "provenance": []
    },
    "kernelspec": {
      "display_name": "Python 3",
      "language": "python",
      "name": "python3"
    },
    "language_info": {
      "codemirror_mode": {
        "name": "ipython",
        "version": 3
      },
      "file_extension": ".py",
      "mimetype": "text/x-python",
      "name": "python",
      "nbconvert_exporter": "python",
      "pygments_lexer": "ipython3",
      "version": "3.10.4"
    },
    "orig_nbformat": 4
  },
  "nbformat": 4,
  "nbformat_minor": 0
}
