{
 "cells": [
  {
   "cell_type": "code",
   "execution_count": null,
   "metadata": {},
   "outputs": [],
   "source": [
    "# Module Imports\n",
    "import matplotlib.pyplot as plt\n",
    "import pandas as pd\n",
    "import math\n",
    "from sklearn.model_selection import train_test_split\n",
    "from sklearn.preprocessing import StandardScaler, PolynomialFeatures\n",
    "from sklearn.linear_model import LinearRegression\n",
    "from sklearn.metrics import mean_absolute_error"
   ]
  },
  {
   "cell_type": "code",
   "execution_count": null,
   "metadata": {},
   "outputs": [],
   "source": [
    "df = pd.read_csv(\"train.csv\")\n",
    "# df.round(1)"
   ]
  },
  {
   "cell_type": "code",
   "execution_count": null,
   "metadata": {},
   "outputs": [],
   "source": [
    "df[\"var13\"] = df[\"var13\"].astype(\"category\")\n",
    "df[\"var13\"] = df[\"var13\"].cat.codes\n",
    "df[\"var15\"] = df[\"var15\"].astype(\"category\")\n",
    "df[\"var15\"] = df[\"var15\"].cat.codes\n",
    "df"
   ]
  },
  {
   "cell_type": "code",
   "execution_count": null,
   "metadata": {},
   "outputs": [],
   "source": [
    "df.isna().sum()"
   ]
  },
  {
   "cell_type": "code",
   "execution_count": null,
   "metadata": {},
   "outputs": [],
   "source": [
    "df['var5'].fillna(df.var5.median(), inplace= True)\n",
    "df['var6'].fillna(df.var6.median(), inplace= True)\n",
    "df['var7'].fillna(df.var7.median(), inplace= True)\n",
    "df['var8'].fillna(df.var8.median(), inplace= True)\n",
    "df['var9'].fillna(df.var9.median(), inplace= True)\n",
    "df['var10'].fillna(df.var10.median(), inplace= True)\n",
    "df['var11'].fillna(df.var11.median(), inplace= True)\n",
    "df['var12'].fillna(df.var12.median(), inplace= True)\n",
    "df['var14'].fillna(df.var14.median(), inplace= True)\n",
    "df['target'].fillna(df.target.median(), inplace= True)\n"
   ]
  },
  {
   "cell_type": "code",
   "execution_count": null,
   "metadata": {},
   "outputs": [],
   "source": [
    "df.isna().sum()"
   ]
  },
  {
   "cell_type": "code",
   "execution_count": null,
   "metadata": {},
   "outputs": [],
   "source": [
    "x = df.drop(columns= ['target', 'ID'])\n",
    "y = df['target']\n",
    "\n",
    "x_train, x_test, y_train, y_test = train_test_split(x, y, test_size= 0.25, random_state= 1)\n",
    "x_test"
   ]
  },
  {
   "cell_type": "code",
   "execution_count": null,
   "metadata": {},
   "outputs": [],
   "source": [
    "scaler = StandardScaler()\n",
    "\n",
    "x_train_scaler = scaler.fit_transform(x_train)\n",
    "x_test_scaler = scaler.transform(x_test)"
   ]
  },
  {
   "cell_type": "code",
   "execution_count": null,
   "metadata": {},
   "outputs": [],
   "source": [
    "lin = LinearRegression()\n",
    "poly = PolynomialFeatures(degree= 2)\n",
    "\n",
    "x_train_poly = poly.fit_transform(x_train_scaler)\n",
    "x_test_poly = poly.transform(x_test_scaler)\n",
    "poly.fit(x_train_poly, y_train)\n",
    "lin.fit(x_train_poly, y_train)"
   ]
  },
  {
   "cell_type": "code",
   "execution_count": null,
   "metadata": {},
   "outputs": [],
   "source": [
    "y_train_pred = lin.predict(x_train_poly)\n",
    "mean_absolute_error(y_train, y_train_pred)"
   ]
  },
  {
   "cell_type": "code",
   "execution_count": null,
   "metadata": {},
   "outputs": [],
   "source": [
    "y_test_pred = lin.predict(x_test_poly)\n",
    "mean_absolute_error(y_test, y_test_pred)"
   ]
  },
  {
   "cell_type": "code",
   "execution_count": null,
   "metadata": {},
   "outputs": [],
   "source": [
    "df_test = pd.read_csv(\"test.csv\")"
   ]
  },
  {
   "cell_type": "code",
   "execution_count": null,
   "metadata": {},
   "outputs": [],
   "source": [
    "df_test[\"var13\"] = df_test[\"var13\"].astype(\"category\")\n",
    "df_test[\"var13\"] = df_test[\"var13\"].cat.codes\n",
    "df_test[\"var15\"] = df_test[\"var15\"].astype(\"category\")\n",
    "df_test[\"var15\"] = df_test[\"var15\"].cat.codes"
   ]
  },
  {
   "cell_type": "code",
   "execution_count": null,
   "metadata": {},
   "outputs": [],
   "source": [
    "df_test['var13'].fillna(df_test.var13.median(), inplace= True)"
   ]
  },
  {
   "cell_type": "code",
   "execution_count": null,
   "metadata": {},
   "outputs": [],
   "source": [
    "features = df_test.drop(columns= ['ID'])\n",
    "features"
   ]
  },
  {
   "cell_type": "code",
   "execution_count": null,
   "metadata": {},
   "outputs": [],
   "source": [
    "features_scalar = scaler.transform(features)\n",
    "features_poly = poly.transform(features_scalar)\n",
    "\n",
    "predict = lin.predict(features_scalar)"
   ]
  }
 ],
 "metadata": {
  "kernelspec": {
   "display_name": "Python 3",
   "language": "python",
   "name": "python3"
  },
  "language_info": {
   "codemirror_mode": {
    "name": "ipython",
    "version": 3
   },
   "file_extension": ".py",
   "mimetype": "text/x-python",
   "name": "python",
   "nbconvert_exporter": "python",
   "pygments_lexer": "ipython3",
   "version": "3.10.4"
  },
  "orig_nbformat": 4
 },
 "nbformat": 4,
 "nbformat_minor": 2
}
