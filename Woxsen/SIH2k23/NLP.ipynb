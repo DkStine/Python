{
 "cells": [
  {
   "cell_type": "code",
   "execution_count": 1,
   "metadata": {},
   "outputs": [],
   "source": [
    "from sklearn.datasets import fetch_20newsgroups\n",
    "import numpy as np"
   ]
  },
  {
   "cell_type": "code",
   "execution_count": 2,
   "metadata": {},
   "outputs": [],
   "source": [
    "textData = fetch_20newsgroups()"
   ]
  },
  {
   "cell_type": "code",
   "execution_count": 3,
   "metadata": {},
   "outputs": [],
   "source": [
    "rawText = textData.data[:4]"
   ]
  },
  {
   "cell_type": "markdown",
   "metadata": {},
   "source": [
    "Stage 1: Converting to lowercase"
   ]
  },
  {
   "cell_type": "code",
   "execution_count": 4,
   "metadata": {},
   "outputs": [
    {
     "name": "stdout",
     "output_type": "stream",
     "text": [
      "[\"from: lerxst@wam.umd.edu (where's my thing)\\nsubject: what car is this!?\\nnntp-posting-host: rac3.wam.umd.edu\\norganization: university of maryland, college park\\nlines: 15\\n\\n i was wondering if anyone out there could enlighten me on this car i saw\\nthe other day. it was a 2-door sports car, looked to be from the late 60s/\\nearly 70s. it was called a bricklin. the doors were really small. in addition,\\nthe front bumper was separate from the rest of the body. this is \\nall i know. if anyone can tellme a model name, engine specs, years\\nof production, where this car is made, history, or whatever info you\\nhave on this funky looking car, please e-mail.\\n\\nthanks,\\n- il\\n   ---- brought to you by your neighborhood lerxst ----\\n\\n\\n\\n\\n\", \"from: guykuo@carson.u.washington.edu (guy kuo)\\nsubject: si clock poll - final call\\nsummary: final call for si clock reports\\nkeywords: si,acceleration,clock,upgrade\\narticle-i.d.: shelley.1qvfo9innc3s\\norganization: university of washington\\nlines: 11\\nnntp-posting-host: carson.u.washington.edu\\n\\na fair number of brave souls who upgraded their si clock oscillator have\\nshared their experiences for this poll. please send a brief message detailing\\nyour experiences with the procedure. top speed attained, cpu rated speed,\\nadd on cards and adapters, heat sinks, hour of usage per day, floppy disk\\nfunctionality with 800 and 1.4 m floppies are especially requested.\\n\\ni will be summarizing in the next two days, so please add to the network\\nknowledge base if you have done the clock upgrade and haven't answered this\\npoll. thanks.\\n\\nguy kuo <guykuo@u.washington.edu>\\n\", 'from: twillis@ec.ecn.purdue.edu (thomas e willis)\\nsubject: pb questions...\\norganization: purdue university engineering computer network\\ndistribution: usa\\nlines: 36\\n\\nwell folks, my mac plus finally gave up the ghost this weekend after\\nstarting life as a 512k way back in 1985.  sooo, i\\'m in the market for a\\nnew machine a bit sooner than i intended to be...\\n\\ni\\'m looking into picking up a powerbook 160 or maybe 180 and have a bunch\\nof questions that (hopefully) somebody can answer:\\n\\n* does anybody know any dirt on when the next round of powerbook\\nintroductions are expected?  i\\'d heard the 185c was supposed to make an\\nappearence \"this summer\" but haven\\'t heard anymore on it - and since i\\ndon\\'t have access to macleak, i was wondering if anybody out there had\\nmore info...\\n\\n* has anybody heard rumors about price drops to the powerbook line like the\\nones the duo\\'s just went through recently?\\n\\n* what\\'s the impression of the display on the 180?  i could probably swing\\na 180 if i got the 80mb disk rather than the 120, but i don\\'t really have\\na feel for how much \"better\" the display is (yea, it looks great in the\\nstore, but is that all \"wow\" or is it really that good?).  could i solicit\\nsome opinions of people who use the 160 and 180 day-to-day on if its worth\\ntaking the disk size and money hit to get the active display?  (i realize\\nthis is a real subjective question, but i\\'ve only played around with the\\nmachines in a computer store breifly and figured the opinions of somebody\\nwho actually uses the machine daily might prove helpful).\\n\\n* how well does hellcats perform?  ;)\\n\\nthanks a bunch in advance for any info - if you could email, i\\'ll post a\\nsummary (news reading time is at a premium with finals just around the\\ncorner... :( )\\n--\\ntom willis  \\\\  twillis@ecn.purdue.edu    \\\\    purdue electrical engineering\\n---------------------------------------------------------------------------\\n\"convictions are more dangerous enemies of truth than lies.\"  - f. w.\\nnietzsche\\n', 'from: jgreen@amber (joe green)\\nsubject: re: weitek p9000 ?\\norganization: harris computer systems division\\nlines: 14\\ndistribution: world\\nnntp-posting-host: amber.ssd.csd.harris.com\\nx-newsreader: tin [version 1.1 pl9]\\n\\nrobert j.c. kyanko (rob@rjck.uucp) wrote:\\n> abraxis@iastate.edu writes in article <abraxis.734340159@class1.iastate.edu>:\\n> > anyone know about the weitek p9000 graphics chip?\\n> as far as the low-level stuff goes, it looks pretty nice.  it\\'s got this\\n> quadrilateral fill command that requires just the four points.\\n\\ndo you have weitek\\'s address/phone number?  i\\'d like to get some information\\nabout this chip.\\n\\n--\\njoe green\\t\\t\\t\\tharris corporation\\njgreen@csd.harris.com\\t\\t\\tcomputer systems division\\n\"the only thing that really scares me is a person with no sense of humor.\"\\n\\t\\t\\t\\t\\t\\t-- jonathan winters\\n']\n"
     ]
    }
   ],
   "source": [
    "cleanText1 = []\n",
    "\n",
    "def toLowerCase(data):\n",
    "    for line in data:\n",
    "        cleanText1.append(str.lower(line))\n",
    "\n",
    "toLowerCase(rawText)\n",
    "print(cleanText1)"
   ]
  }
 ],
 "metadata": {
  "kernelspec": {
   "display_name": "Python 3",
   "language": "python",
   "name": "python3"
  },
  "language_info": {
   "codemirror_mode": {
    "name": "ipython",
    "version": 3
   },
   "file_extension": ".py",
   "mimetype": "text/x-python",
   "name": "python",
   "nbconvert_exporter": "python",
   "pygments_lexer": "ipython3",
   "version": "3.10.4"
  },
  "orig_nbformat": 4
 },
 "nbformat": 4,
 "nbformat_minor": 2
}
