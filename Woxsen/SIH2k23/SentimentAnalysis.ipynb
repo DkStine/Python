{
 "cells": [
  {
   "cell_type": "code",
   "execution_count": 22,
   "metadata": {},
   "outputs": [],
   "source": [
    "import string\n",
    "from collections import Counter"
   ]
  },
  {
   "cell_type": "code",
   "execution_count": 23,
   "metadata": {},
   "outputs": [],
   "source": [
    "text = open('sample.txt', encoding='utf - 8').read()\n",
    "text = text.lower()\n",
    "\n",
    "cleanText = text.translate(str.maketrans(\"\", \"\", string.punctuation))\n",
    "tokenisedWords = cleanText.split()"
   ]
  },
  {
   "cell_type": "markdown",
   "metadata": {},
   "source": [
    "Stopward Removal"
   ]
  },
  {
   "cell_type": "code",
   "execution_count": 24,
   "metadata": {},
   "outputs": [
    {
     "name": "stdout",
     "output_type": "stream",
     "text": [
      "['happiness', 'simple', 'term', 'used', 'commonly', 'even', 'small', 'kid', 'tell', 'meaning', 'happiness', 'many', 'us', 'really', 'know', 'meaning', 'true', 'happiness', 'attain', 'state', 'many', 'people', 'look', 'happiness', 'outside', 'believe', 'happy', 'possess', 'certain', 'things', 'certain', 'people', 'reach', 'professional', 'height', 'fed', 'since', 'childhood', 'mentioned', 'things', 'essential', 'good', 'living', 'cannot', 'bring', 'happiness', 'happiness', 'something', 'bring', 'choose', 'happy', 'channelize', 'thoughts', 'accordingly', 'shall', 'attain', 'happiness', 'however', 'simple', 'seems', 'need', 'make', 'efforts', 'work', 'secondly', 'onetime', 'activity', 'need', 'practice', 'certain', 'things', 'daily', 'order', 'achieve', 'state', 'need', 'look', 'happiness', 'inside', 'times', 'need', 'seek', 'help', 'family', 'friends', 'many', 'people', 'days', 'suffer', 'depression', 'choose', 'deal', 'problems', 'involve', 'others', 'wrong', 'important', 'look', 'within', 'find', 'true', 'happiness', 'equally', 'important', 'surround', 'positive', 'people']\n"
     ]
    }
   ],
   "source": [
    "stopWords = [\"i\", \"me\", \"my\", \"myself\", \"we\", \"our\", \"ours\", \"ourselves\", \"you\", \"your\", \"yours\", \"yourself\",\n",
    "              \"yourselves\", \"he\", \"him\", \"his\", \"himself\", \"she\", \"her\", \"hers\", \"herself\", \"it\", \"its\", \"itself\",\n",
    "              \"they\", \"them\", \"their\", \"theirs\", \"themselves\", \"what\", \"which\", \"who\", \"whom\", \"this\", \"that\", \"these\",\n",
    "              \"those\", \"am\", \"is\", \"are\", \"was\", \"were\", \"be\", \"been\", \"being\", \"have\", \"has\", \"had\", \"having\", \"do\",\n",
    "              \"does\", \"did\", \"doing\", \"a\", \"an\", \"the\", \"and\", \"but\", \"if\", \"or\", \"because\", \"as\", \"until\", \"while\",\n",
    "              \"of\", \"at\", \"by\", \"for\", \"with\", \"about\", \"against\", \"between\", \"into\", \"through\", \"during\", \"before\",\n",
    "              \"after\", \"above\", \"below\", \"to\", \"from\", \"up\", \"down\", \"in\", \"out\", \"on\", \"off\", \"over\", \"under\", \"again\",\n",
    "              \"further\", \"then\", \"once\", \"here\", \"there\", \"when\", \"where\", \"why\", \"how\", \"all\", \"any\", \"both\", \"each\",\n",
    "              \"few\", \"more\", \"most\", \"other\", \"some\", \"such\", \"no\", \"nor\", \"not\", \"only\", \"own\", \"same\", \"so\", \"than\",\n",
    "              \"too\", \"very\", \"s\", \"t\", \"can\", \"will\", \"just\", \"don\", \"should\", \"now\"]\n",
    "\n",
    "finalWords = []\n",
    "\n",
    "for word in tokenisedWords:\n",
    "    if word not in stopWords:\n",
    "        finalWords.append(word)\n",
    "\n",
    "print(finalWords)\n"
   ]
  },
  {
   "cell_type": "markdown",
   "metadata": {},
   "source": [
    "Emotions"
   ]
  },
  {
   "cell_type": "code",
   "execution_count": 26,
   "metadata": {},
   "outputs": [
    {
     "name": "stdout",
     "output_type": "stream",
     "text": [
      "Counter({' happy': 2, ' fearless': 1})\n"
     ]
    }
   ],
   "source": [
    "emotionList = []\n",
    "\n",
    "with open('emotions.txt', 'r') as file:\n",
    "    for line in file:\n",
    "        clearLine = line.replace('\\n', '').replace('\\'', '').replace(',', '').strip()\n",
    "        word, emotion = clearLine.split(':')\n",
    "        if word in finalWords:\n",
    "            emotionList.append(emotion)\n",
    "\n",
    "countEmotions = Counter(emotionList)\n",
    "print(countEmotions)\n",
    "\n",
    "# print(word)"
   ]
  }
 ],
 "metadata": {
  "kernelspec": {
   "display_name": "Python 3",
   "language": "python",
   "name": "python3"
  },
  "language_info": {
   "codemirror_mode": {
    "name": "ipython",
    "version": 3
   },
   "file_extension": ".py",
   "mimetype": "text/x-python",
   "name": "python",
   "nbconvert_exporter": "python",
   "pygments_lexer": "ipython3",
   "version": "3.11.5"
  },
  "orig_nbformat": 4
 },
 "nbformat": 4,
 "nbformat_minor": 2
}
