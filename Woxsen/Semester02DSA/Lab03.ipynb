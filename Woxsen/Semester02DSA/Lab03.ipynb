{
 "cells": [
  {
   "cell_type": "markdown",
   "metadata": {},
   "source": [
    "Q1. Imagine you are tasked with designing a simple ticketing system for a customer support department. The system needs to handle customer inquiries in a first come first serve basis, but with the ability to prioritize urgent issues. Develop a Python program using a queue to simulate this ticketing system. The program should allow users to submit tickets, display the currrent ticket, and process tickets by resolving them in the order they were received or based on their priority."
   ]
  },
  {
   "cell_type": "code",
   "execution_count": 1,
   "metadata": {},
   "outputs": [],
   "source": [
    "class Ticket:\n",
    "    def __init__(self, customerName, issue, priority):\n",
    "        self.customerName = customerName;\n",
    "        self.issue = issue;\n",
    "        self.priority = priority;\n",
    "\n",
    "class TicketingSystem:\n",
    "    def __init__(self):\n",
    "        self.ticketQueue = []\n",
    "\n",
    "    def submitTicket(self, customerName, issue, priority):\n",
    "        ticket = Ticket(customerName, issue, priority)\n",
    "        self.ticketQueue.append(ticket)\n",
    "\n",
    "    def processTicket(self):\n",
    "        if len(self.ticketQueue) == 0:\n",
    "            print(\"No tickets to process\")\n",
    "            return\n",
    "        \n",
    "        ticket = self.ticketQueue.pop(0)\n",
    "        print(f\"Processing ticket from {ticket.customerName} : {ticket.issue}\")\n",
    "\n",
    "    def displayTickets(self):\n",
    "        if len(self.ticketQueue) == 0:\n",
    "            print(\"No tickets to display\")\n",
    "            return\n",
    "        \n",
    "        print(\"Current tickets in the queue: \")\n",
    "        for ticket in self.ticketQueue:\n",
    "            print(f\"Customer: {ticket.customerName}, Issue: {ticket.issue}, Priority: {ticket.priority}\")"
   ]
  },
  {
   "cell_type": "code",
   "execution_count": 2,
   "metadata": {},
   "outputs": [
    {
     "name": "stdout",
     "output_type": "stream",
     "text": [
      "\n",
      "Ticketing System Menu\n",
      "1. Submit a ticket\n",
      "2. Process a ticket\n",
      "3. Display current tickets\n",
      "4. Exit\n",
      "\n",
      "Ticketing System Menu\n",
      "1. Submit a ticket\n",
      "2. Process a ticket\n",
      "3. Display current tickets\n",
      "4. Exit\n",
      "\n",
      "Ticketing System Menu\n",
      "1. Submit a ticket\n",
      "2. Process a ticket\n",
      "3. Display current tickets\n",
      "4. Exit\n",
      "Current tickets in the queue: \n",
      "Customer: A, Issue: Faculty, Priority: High\n",
      "Customer: B, Issue: Attendance, Priority: Medium\n",
      "\n",
      "Ticketing System Menu\n",
      "1. Submit a ticket\n",
      "2. Process a ticket\n",
      "3. Display current tickets\n",
      "4. Exit\n",
      "Processing ticket from A : Faculty\n",
      "\n",
      "Ticketing System Menu\n",
      "1. Submit a ticket\n",
      "2. Process a ticket\n",
      "3. Display current tickets\n",
      "4. Exit\n",
      "Current tickets in the queue: \n",
      "Customer: B, Issue: Attendance, Priority: Medium\n",
      "\n",
      "Ticketing System Menu\n",
      "1. Submit a ticket\n",
      "2. Process a ticket\n",
      "3. Display current tickets\n",
      "4. Exit\n",
      "Exiting the system...\n"
     ]
    }
   ],
   "source": [
    "if __name__ == '__main__':\n",
    "    launchSystem = TicketingSystem()\n",
    "\n",
    "    while True:\n",
    "        print(\"\\nTicketing System Menu\")\n",
    "        print(\"1. Submit a ticket\")\n",
    "        print(\"2. Process a ticket\")\n",
    "        print(\"3. Display current tickets\")\n",
    "        print(\"4. Exit\")\n",
    "\n",
    "        choice = input(\"Enter your choice: \")\n",
    "        \n",
    "        if choice == '1':\n",
    "            name = input(\"Enter customer name: \")\n",
    "            issue = input(\"Enter your issue: \")\n",
    "            priority = input(\"Enter priority\")\n",
    "            launchSystem.submitTicket(name, issue, priority)\n",
    "        elif choice == '2':\n",
    "            launchSystem.processTicket()\n",
    "        elif choice == '3':\n",
    "            launchSystem.displayTickets()\n",
    "        elif choice == '4':\n",
    "            print(\"Exiting the system...\")\n",
    "            break\n",
    "        else:\n",
    "            print(\"Invalid selection, choose again...!\")"
   ]
  }
 ],
 "metadata": {
  "kernelspec": {
   "display_name": "Python 3",
   "language": "python",
   "name": "python3"
  },
  "language_info": {
   "codemirror_mode": {
    "name": "ipython",
    "version": 3
   },
   "file_extension": ".py",
   "mimetype": "text/x-python",
   "name": "python",
   "nbconvert_exporter": "python",
   "pygments_lexer": "ipython3",
   "version": "3.11.5"
  }
 },
 "nbformat": 4,
 "nbformat_minor": 2
}
