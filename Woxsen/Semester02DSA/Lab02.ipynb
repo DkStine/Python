{
 "cells": [
  {
   "cell_type": "code",
   "execution_count": 3,
   "metadata": {},
   "outputs": [
    {
     "name": "stdout",
     "output_type": "stream",
     "text": [
      "Sum of marks: 24\n",
      "Sqrt: 4.123105625617661\n"
     ]
    }
   ],
   "source": [
    "import math\n",
    "\n",
    "class A:\n",
    "    name = \"Woxsen\"\n",
    "    marks1 = 10\n",
    "    marks2 = 20\n",
    "\n",
    "s1 = A()\n",
    "s1.name = \"Ajay\"\n",
    "s1.marks1 = 7\n",
    "s1.marks2 = 17\n",
    "\n",
    "print(\"Sum of marks:\", s1.marks1 + s1.marks2)\n",
    "print(\"Sqrt:\", math.sqrt(s1.marks2))"
   ]
  },
  {
   "cell_type": "code",
   "execution_count": 8,
   "metadata": {},
   "outputs": [
    {
     "name": "stdout",
     "output_type": "stream",
     "text": [
      "Num: 1 Square: 1\n",
      "Num: 2 Square: 4\n",
      "Num: 3 Square: 9\n",
      "Num: 4 Square: 16\n",
      "Num: 5 Square: 25\n",
      "Num: 6 Square: 36\n",
      "Num: 7 Square: 49\n",
      "Num: 8 Square: 64\n",
      "Num: 9 Square: 81\n",
      "Num: 10 Square: 100\n",
      "\n",
      "a: 5\n",
      "b: 10\n",
      "10 42 31 56 99 "
     ]
    }
   ],
   "source": [
    "for i in range(1, 11):\n",
    "    print(\"Num:\", i, \"Square:\", i ** 2)\n",
    "\n",
    "print()\n",
    "a = 5; b = 10;\n",
    "print(f\"a: {a}\")\n",
    "print(f\"b: {b}\")\n",
    "\n",
    "print()\n",
    "for j in [10, 42, 31, 56, 99]:\n",
    "    print(j, end=\" \")"
   ]
  },
  {
   "cell_type": "code",
   "execution_count": 12,
   "metadata": {},
   "outputs": [
    {
     "name": "stdout",
     "output_type": "stream",
     "text": [
      "Aditya\n",
      "Aakash\n",
      "Varun\n",
      "Piyush\n",
      "Aakash\n",
      "Ram\n",
      "Rohit\n",
      "Max: 99\n"
     ]
    }
   ],
   "source": [
    "class B:\n",
    "    def __init__(self, name, age) -> None:\n",
    "        self.name = name\n",
    "        self.age = age\n",
    "\n",
    "p1 = B(\"Aditya\", 0)\n",
    "p2 = B(\"Aakash\", 67)\n",
    "p3 = B(\"Varun\", 17)\n",
    "p4 = B(\"Piyush\", 89)\n",
    "p5 = B(\"Aakash\", 7)\n",
    "p6 = B(\"Ram\", 16)\n",
    "p7 = B(\"Rohit\", 78)\n",
    "\n",
    "l = []\n",
    "l.extend([p1, p2, p3, p4, p5, p6, p7])\n",
    "for i in l:\n",
    "    print(i.name)\n",
    "\n",
    "l = [10, 42, 31, 56, 99]\n",
    "max = l[0]\n",
    "for k in l:\n",
    "    if k > max:\n",
    "        max = k\n",
    "\n",
    "print(f\"Max: {max}\")"
   ]
  },
  {
   "cell_type": "code",
   "execution_count": null,
   "metadata": {},
   "outputs": [],
   "source": [
    "class Node:\n",
    "    def __init__(self, data = None, next = None) -> None:\n",
    "        self.data = data\n",
    "        self.next = next\n",
    "\n",
    "class LinkedList:\n",
    "    def __init__(self) -> None:\n",
    "        self.head = None\n",
    "\n",
    "    def insertAtStart(self, data) -> None:\n",
    "        newNode = Node(data, self.head)\n",
    "        self.head = newNode\n",
    "\n",
    "    def printLL(self) -> None:\n",
    "        if self.head is None:\n",
    "            print(\"The Linked list is empty\")\n",
    "            return\n",
    "        \n",
    "        itr = self.head\n",
    "        llStr = ''\n",
    "\n",
    "        while itr:\n",
    "            llStr += str(itr.data) + ' --> '\n",
    "            itr = itr.next\n",
    "            # position += 1\n",
    "\n",
    "        print(llStr)\n",
    "        \n",
    "    def insertAtIndex(self, data, index) -> None:\n",
    "        if self.head is None or index == 0:\n",
    "            self.insertAtStart(data)\n",
    "            return\n",
    "        \n",
    "        itr = self.head\n",
    "        position = 0\n",
    "\n",
    "        while itr:\n",
    "            if position == index - 1:\n",
    "                newNode = Node(data, itr.next)\n",
    "                itr.next = newNode\n",
    "                return\n",
    "            position += 1\n",
    "            itr = itr.next\n",
    "        \n",
    "    def insertAtEnd(self, data) -> None:\n",
    "        if self.head is None:\n",
    "            self.head = Node(data, None)\n",
    "            return\n",
    "        \n",
    "        itr = self.head\n",
    "\n",
    "        while itr.next:\n",
    "            itr = itr.next\n",
    "        \n",
    "        itr.next = Node(data, None)\n"
   ]
  },
  {
   "cell_type": "code",
   "execution_count": null,
   "metadata": {},
   "outputs": [
    {
     "name": "stdout",
     "output_type": "stream",
     "text": [
      "3 --> 2 --> 1 --> \n",
      "3 --> 2 --> 1 --> 4 --> 7 --> 6 --> \n",
      "fruit --> 3 --> 2 --> 1 --> 4 --> 7 --> 6 --> \n",
      "fruit --> 3 --> 2 --> 1 --> veg --> 4 --> 7 --> 6 --> \n"
     ]
    }
   ],
   "source": [
    "if __name__ == '__main__':\n",
    "    ll = LinkedList()\n",
    "    ll.insertAtStart(1)\n",
    "    ll.insertAtStart(2)\n",
    "    ll.insertAtStart(3)\n",
    "    ll.printLL()\n",
    "    ll.insertAtEnd(4)\n",
    "    ll.insertAtEnd(7)\n",
    "    ll.insertAtEnd(6)\n",
    "    ll.printLL()\n",
    "    ll.insertAtIndex(data='fruit', index=0)\n",
    "    ll.printLL()\n",
    "    ll.insertAtIndex(data='veg', index=4)\n",
    "    ll.printLL()\n"
   ]
  }
 ],
 "metadata": {
  "kernelspec": {
   "display_name": "Python 3",
   "language": "python",
   "name": "python3"
  },
  "language_info": {
   "codemirror_mode": {
    "name": "ipython",
    "version": 3
   },
   "file_extension": ".py",
   "mimetype": "text/x-python",
   "name": "python",
   "nbconvert_exporter": "python",
   "pygments_lexer": "ipython3",
   "version": "3.11.5"
  }
 },
 "nbformat": 4,
 "nbformat_minor": 2
}
