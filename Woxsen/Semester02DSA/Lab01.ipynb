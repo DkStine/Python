{
 "cells": [
  {
   "cell_type": "code",
   "execution_count": 13,
   "metadata": {},
   "outputs": [],
   "source": [
    "class Node:\n",
    "    def __init__(self, data = None, next = None) -> None:\n",
    "        self.data = data;\n",
    "        self.next = next;\n",
    "\n",
    "class LinkedList:\n",
    "    def __init__(self) -> None:\n",
    "        self.head = None;\n",
    "\n",
    "    def insertAtStart(self, data) -> None:\n",
    "        newNode = Node(data, self.head)\n",
    "        self.head = newNode\n",
    "\n",
    "    def printLL(self) -> None:\n",
    "        if self.head is None:\n",
    "            print(\"The Linked list is empty\")\n",
    "            return\n",
    "        \n",
    "        itr = self.head\n",
    "        llStr = ''\n",
    "\n",
    "        while itr:\n",
    "            llStr += str(itr.data) + ' --> '\n",
    "            itr = itr.next\n",
    "            # position += 1\n",
    "\n",
    "        print(llStr)\n",
    "        \n",
    "    def insertAtIndex(self, data, index) -> None:\n",
    "        if self.head is None or index == 0:\n",
    "            self.insertAtStart(data)\n",
    "            return\n",
    "        \n",
    "        itr = self.head\n",
    "        position = 0\n",
    "\n",
    "        while itr:\n",
    "            if position == index - 1:\n",
    "                newNode = Node(data, itr.next)\n",
    "                itr.next = newNode\n",
    "                return\n",
    "            position += 1\n",
    "            itr = itr.next\n",
    "        \n",
    "    def insertAtEnd(self, data) -> None:\n",
    "        if self.head is None:\n",
    "            self.head = Node(data, None)\n",
    "            return\n",
    "        \n",
    "        itr = self.head\n",
    "\n",
    "        while itr.next:\n",
    "            itr = itr.next\n",
    "        \n",
    "        itr.next = Node(data, None)\n"
   ]
  },
  {
   "cell_type": "code",
   "execution_count": 15,
   "metadata": {},
   "outputs": [
    {
     "name": "stdout",
     "output_type": "stream",
     "text": [
      "3 --> 2 --> 1 --> \n",
      "3 --> 2 --> 1 --> 4 --> 7 --> 6 --> \n",
      "fruit --> 3 --> 2 --> 1 --> 4 --> 7 --> 6 --> \n",
      "fruit --> 3 --> 2 --> 1 --> veg --> 4 --> 7 --> 6 --> \n"
     ]
    }
   ],
   "source": [
    "if __name__ == '__main__':\n",
    "    ll = LinkedList()\n",
    "    ll.insertAtStart(1)\n",
    "    ll.insertAtStart(2)\n",
    "    ll.insertAtStart(3)\n",
    "    ll.printLL()\n",
    "    ll.insertAtEnd(4)\n",
    "    ll.insertAtEnd(7)\n",
    "    ll.insertAtEnd(6)\n",
    "    ll.printLL()\n",
    "    ll.insertAtIndex(data='fruit', index=0)\n",
    "    ll.printLL()\n",
    "    ll.insertAtIndex(data='veg', index=4)\n",
    "    ll.printLL()\n"
   ]
  }
 ],
 "metadata": {
  "kernelspec": {
   "display_name": "Python 3",
   "language": "python",
   "name": "python3"
  },
  "language_info": {
   "codemirror_mode": {
    "name": "ipython",
    "version": 3
   },
   "file_extension": ".py",
   "mimetype": "text/x-python",
   "name": "python",
   "nbconvert_exporter": "python",
   "pygments_lexer": "ipython3",
   "version": "3.11.5"
  }
 },
 "nbformat": 4,
 "nbformat_minor": 2
}
