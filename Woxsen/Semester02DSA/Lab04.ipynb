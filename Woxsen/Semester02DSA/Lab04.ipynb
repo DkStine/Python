{
 "cells": [
  {
   "cell_type": "markdown",
   "metadata": {},
   "source": [
    "Linear Search"
   ]
  },
  {
   "cell_type": "code",
   "execution_count": 1,
   "metadata": {},
   "outputs": [],
   "source": [
    "def linear_search(dataset: list[int], key: int) -> int:\n",
    "    for i in range(len(dataset)):\n",
    "        if dataset[i] == key:\n",
    "            return i\n",
    "    \n",
    "    print(\"Unsuccessful Search!\")\n",
    "    return -1\n"
   ]
  },
  {
   "cell_type": "markdown",
   "metadata": {},
   "source": [
    "Binary Search"
   ]
  },
  {
   "cell_type": "code",
   "execution_count": 10,
   "metadata": {},
   "outputs": [],
   "source": [
    "def binary_search(dataset: list[int], key: int) -> int:\n",
    "    data = sorted(dataset)\n",
    "    print(f\"Sorted list: {data}\")\n",
    "    st, en = 0, len(data) - 1\n",
    "\n",
    "    while st <= en:\n",
    "        mid = (en + st) // 2\n",
    "\n",
    "        if data[mid] == key:\n",
    "            return mid\n",
    "        elif data[mid] < key:\n",
    "            st = mid + 1\n",
    "        else:\n",
    "            en = mid - 1\n",
    "\n",
    "    return -1\n"
   ]
  },
  {
   "cell_type": "markdown",
   "metadata": {},
   "source": [
    "Main Construct"
   ]
  },
  {
   "cell_type": "code",
   "execution_count": 11,
   "metadata": {},
   "outputs": [
    {
     "name": "stdout",
     "output_type": "stream",
     "text": [
      "The element is found at index 2\n",
      "Sorted list: [0, 1, 2, 4, 5, 78]\n",
      "Key found at index 4\n"
     ]
    }
   ],
   "source": [
    "if __name__ == '__main__':\n",
    "    data = [1, 2, 78, 5, 0, 4]\n",
    "    \n",
    "    # Linear Search\n",
    "    print(f\"The element is found at index {linear_search(data, 78)}\")\n",
    "\n",
    "    # Binary Search\n",
    "    res = binary_search(data, 5)\n",
    "    if res == -1:\n",
    "        print(\"Key not found\")\n",
    "    else:\n",
    "        print(f\"Key found at index {res}\")"
   ]
  }
 ],
 "metadata": {
  "kernelspec": {
   "display_name": "Python 3",
   "language": "python",
   "name": "python3"
  },
  "language_info": {
   "codemirror_mode": {
    "name": "ipython",
    "version": 3
   },
   "file_extension": ".py",
   "mimetype": "text/x-python",
   "name": "python",
   "nbconvert_exporter": "python",
   "pygments_lexer": "ipython3",
   "version": "3.11.5"
  }
 },
 "nbformat": 4,
 "nbformat_minor": 2
}
