{
 "cells": [
  {
   "cell_type": "code",
   "execution_count": 1,
   "metadata": {},
   "outputs": [
    {
     "name": "stdout",
     "output_type": "stream",
     "text": [
      "Sorted array is: [5, 6, 7, 11, 12, 13]\n"
     ]
    }
   ],
   "source": [
    "def heapify(arr, n, i):\n",
    "    largest = i\n",
    "    left = 2 * i + 1\n",
    "    right = 2 * i + 2\n",
    "\n",
    "    if left < n and arr[i] < arr[left]:\n",
    "        largest = left\n",
    "\n",
    "    if right < n and arr[largest] < arr[right]:\n",
    "        largest = right\n",
    "\n",
    "    if largest != i:\n",
    "        arr[i], arr[largest] = arr[largest], arr[i]\n",
    "\n",
    "        heapify(arr, n, largest)\n",
    "\n",
    "def heap_sort(arr):\n",
    "    n = len(arr)\n",
    "\n",
    "    for i in range(n // 2 - 1, -1, -1):\n",
    "        heapify(arr, n, i)\n",
    "\n",
    "    for i in range(n-1, 0, -1):\n",
    "        arr[i], arr[0] = arr[0], arr[i]\n",
    "        heapify(arr, i, 0)\n",
    "\n",
    "arr = [12, 11, 13, 5, 6, 7]\n",
    "heap_sort(arr)\n",
    "print(\"Sorted array is:\", arr)\n"
   ]
  },
  {
   "cell_type": "markdown",
   "metadata": {},
   "source": [
    "#### 2. Fractional Knapsack "
   ]
  },
  {
   "cell_type": "code",
   "execution_count": 2,
   "metadata": {},
   "outputs": [
    {
     "name": "stdout",
     "output_type": "stream",
     "text": [
      "Maximum value in knapsack = 240.0\n",
      "Maximum value in knapsack = 180.0\n"
     ]
    }
   ],
   "source": [
    "def fractional_knapsack(values, weights, W):\n",
    "    n = len(values)\n",
    "\n",
    "    # Calculate value/weight ratio for each item\n",
    "    ratios = [(values[i] / weights[i], values[i], weights[i]) for i in range(n)]\n",
    "    # Sort items based on ratio in non-increasing order\n",
    "    ratios.sort(reverse=True, key=lambda x: x[0])\n",
    "\n",
    "    total_value = 0  # Initialize total value\n",
    "    current_weight = 0  # Initialize current weight\n",
    "\n",
    "    # Loop through all items\n",
    "    for ratio, value, weight in ratios:\n",
    "        if current_weight + weight <= W:\n",
    "            # Add entire item\n",
    "            total_value += value\n",
    "            current_weight += weight\n",
    "        else:\n",
    "            # Add fraction of item\n",
    "            fraction = (W - current_weight) / weight\n",
    "            total_value += value * fraction\n",
    "            break\n",
    "\n",
    "    return total_value\n",
    "\n",
    "\n",
    "# Example Usage\n",
    "values1 = [60, 100, 120]\n",
    "weights1 = [10, 20, 30]\n",
    "W1 = 50\n",
    "\n",
    "print(\"Maximum value in knapsack =\", fractional_knapsack(values1, weights1, W1))\n",
    "\n",
    "# Output: 240\n",
    "\n",
    "values2 = [40, 100, 50, 60]\n",
    "weights2 = [20, 10, 40, 30]\n",
    "W2 = 50\n",
    "\n",
    "print(\"Maximum value in knapsack =\", fractional_knapsack(values2, weights2, W2))\n",
    "\n",
    "# Output: 240"
   ]
  },
  {
   "cell_type": "markdown",
   "metadata": {},
   "source": [
    "#### 3. Activity selection"
   ]
  },
  {
   "cell_type": "code",
   "execution_count": 4,
   "metadata": {},
   "outputs": [
    {
     "name": "stdout",
     "output_type": "stream",
     "text": [
      "The following activities are selected!\n",
      "0\n",
      "1\n",
      "3\n",
      "4\n"
     ]
    }
   ],
   "source": [
    "def print_max_activities(s, f):\n",
    "    n = len(f)\n",
    "    print(\"The following activities are selected!\")\n",
    "\n",
    "    i = 0\n",
    "    print(i)\n",
    "\n",
    "    for j in range(n):\n",
    "        if s[j] >= f[i]:\n",
    "            print(j)\n",
    "            i = j\n",
    "\n",
    "s = [1, 3, 0, 5, 8, 5]\n",
    "f = [2, 4, 6, 7, 9, 9]\n",
    "\n",
    "print_max_activities(s, f)"
   ]
  },
  {
   "cell_type": "markdown",
   "metadata": {},
   "source": [
    "#### 4. Kruskal's Algorithm"
   ]
  },
  {
   "cell_type": "code",
   "execution_count": 5,
   "metadata": {},
   "outputs": [
    {
     "name": "stdout",
     "output_type": "stream",
     "text": [
      "Edges in the constructed MST\n",
      "0--10==1\n",
      "MInimum Spanning Tree 1\n",
      "Edges in the constructed MST\n",
      "0--10==1\n",
      "0--6==2\n",
      "MInimum Spanning Tree 3\n",
      "Edges in the constructed MST\n",
      "0--10==1\n",
      "0--6==2\n",
      "0--5==3\n",
      "MInimum Spanning Tree 6\n"
     ]
    }
   ],
   "source": [
    "class graph:\n",
    "    def __init__(self, vertices):\n",
    "        self.v = vertices\n",
    "        self.graph = []\n",
    "        \n",
    "    \n",
    "    #adding an edge to the graph\n",
    "    \n",
    "    def addEdge(self, u, v, W):\n",
    "        self.graph.append([u, v, W])\n",
    "        \n",
    "    def find(self, parent, i):\n",
    "        if parent[i] !=i:\n",
    "            parent[i] = self.find(parent, parent[i])\n",
    "            \n",
    "        return parent[i]\n",
    "    \n",
    "    def union(self, parent, rank, x , y):\n",
    "        if rank[x] < rank[y]:\n",
    "            parent[x] = y\n",
    "            \n",
    "        elif rank[x] > rank[y]:\n",
    "            parent[y] = x\n",
    "            \n",
    "        else:\n",
    "            parent[y] = x\n",
    "            rank[x]+=1\n",
    "            \n",
    "    def KruskalMST(self):\n",
    "        result =[]\n",
    "        i=0\n",
    "        e=0\n",
    "        self.graph = sorted(self.graph)\n",
    "        key =lambda item: item[2]\n",
    "        parent=[]\n",
    "        rank=[]\n",
    "        for node in range (self.v):\n",
    "            parent.append(node)\n",
    "            rank.append(0)\n",
    "            \n",
    "        while e<self.v-1:\n",
    "            u,v,w = self.graph[i]\n",
    "            i = i+1\n",
    "            x = self.find(parent, u)\n",
    "            y = self.find(parent, v)\n",
    "            \n",
    "            if x!=y:\n",
    "                e = e+1\n",
    "                result.append([u,w,v])\n",
    "                self.union(parent, rank, x, y)\n",
    "                \n",
    "            minimum_cost =0\n",
    "            print(\"Edges in the constructed MST\")\n",
    "            for u, v, weight in result:\n",
    "                minimum_cost += weight\n",
    "                print(\"%d--%d==%d\"%(u,v,weight))\n",
    "            print(\"MInimum Spanning Tree\", minimum_cost)\n",
    "            \n",
    "\n",
    "if __name__ == \"__main__\":\n",
    "    g = graph(4)\n",
    "    g.addEdge(0,1,10)       \n",
    "    g.addEdge(0,2,6)\n",
    "    g.addEdge(0,3,5)\n",
    "    g.addEdge(1,3,15)\n",
    "    g.addEdge(2,3,4)\n",
    "    \n",
    "    g.KruskalMST()"
   ]
  },
  {
   "cell_type": "markdown",
   "metadata": {},
   "source": [
    "#### 5. Job Scheduling"
   ]
  },
  {
   "cell_type": "code",
   "execution_count": 3,
   "metadata": {},
   "outputs": [
    {
     "name": "stdout",
     "output_type": "stream",
     "text": [
      "Following is maximum profit sequence of jobs\n",
      "['b', 'a', 'e']\n"
     ]
    }
   ],
   "source": [
    "def printjobsequencing(arr,t):\n",
    "    n=len(arr)\n",
    "    for  i in range(n):\n",
    "        for j in range(n-1-i):\n",
    "            if arr[i][2]<arr[j+1][2]:\n",
    "                arr[i],arr[j+1]=arr[j+1],arr[i]\n",
    "    \n",
    "    result=[False]*t\n",
    "    job=[-1]*t\n",
    "    for i in range(n):\n",
    "        for j in range(min(t-1,arr[i][1]-1),-1,-1):\n",
    "            if result[j]==False:\n",
    "                result[j]=True\n",
    "                job[j]=arr[i][0]\n",
    "                break\n",
    "    print(job)\n",
    "\n",
    "if __name__==\"__main__\":\n",
    "    arr=[\n",
    "        ['a',2,100],\n",
    "        ['b',1,19],\n",
    "        ['c',2,27],\n",
    "        ['d',1,25],\n",
    "        ['e',3,15]\n",
    "    ]\n",
    "print(\"Following is maximum profit sequence of jobs\")\n",
    "\n",
    "\n",
    "printjobsequencing(arr,3)"
   ]
  },
  {
   "cell_type": "markdown",
   "metadata": {},
   "source": [
    "#### 6. Flloyd warshall Algo"
   ]
  },
  {
   "cell_type": "code",
   "execution_count": 1,
   "metadata": {},
   "outputs": [
    {
     "name": "stdout",
     "output_type": "stream",
     "text": [
      "0 3 7 5 \n",
      "2 0 6 4 \n",
      "3 1 0 5 \n",
      "5 3 2 0 \n"
     ]
    }
   ],
   "source": [
    "# Number of vertices\n",
    "nV = 4\n",
    "INF = float('inf')\n",
    "\n",
    "# Algorithm implementation\n",
    "def floyd_warshall(G):\n",
    "    # Create a distance matrix initialized with the graph values\n",
    "    distance = [list(row) for row in G]\n",
    "    \n",
    "    # Adding vertices individually\n",
    "    for k in range(nV):\n",
    "        for i in range(nV):\n",
    "            for j in range(nV):\n",
    "                distance[i][j] = min(distance[i][j], distance[i][k] + distance[k][j])\n",
    "\n",
    "    print_solution(distance)\n",
    "\n",
    "# Printing the solution\n",
    "def print_solution(distance):\n",
    "    for i in range(nV):\n",
    "        for j in range(nV):\n",
    "            if distance[i][j] == INF:\n",
    "                print(\"INF\", end=\" \")\n",
    "            else:\n",
    "                print(distance[i][j], end=\" \")\n",
    "        print()\n",
    "\n",
    "# Graph representation\n",
    "G = [[0, 3, INF, 5],\n",
    "     [2, 0, INF, 4],\n",
    "     [INF, 1, 0, INF],\n",
    "     [INF, INF, 2, 0]]\n",
    "\n",
    "# Run the Floyd-Warshall algorithm\n",
    "floyd_warshall(G)"
   ]
  }
 ],
 "metadata": {
  "kernelspec": {
   "display_name": "Python 3",
   "language": "python",
   "name": "python3"
  },
  "language_info": {
   "codemirror_mode": {
    "name": "ipython",
    "version": 3
   },
   "file_extension": ".py",
   "mimetype": "text/x-python",
   "name": "python",
   "nbconvert_exporter": "python",
   "pygments_lexer": "ipython3",
   "version": "3.11.5"
  }
 },
 "nbformat": 4,
 "nbformat_minor": 2
}
