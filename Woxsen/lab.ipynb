{
 "cells": [
  {
   "cell_type": "markdown",
   "metadata": {},
   "source": [
    "**Lab_09**"
   ]
  },
  {
   "cell_type": "code",
   "execution_count": 3,
   "metadata": {},
   "outputs": [
    {
     "name": "stdout",
     "output_type": "stream",
     "text": [
      "Maximum value is: 9\n",
      "Minimum value is: 1\n"
     ]
    }
   ],
   "source": [
    "#Q1 --> Maxima and minima in a tuple\n",
    "t = tuple()\n",
    "n = int(input(\"Total number of values in the tuple: \"))\n",
    "\n",
    "for i in range(n):\n",
    "    a = int(input(\"Enter element: \"))\n",
    "    t += (a,) \n",
    "\n",
    "if not t:\n",
    "    print(\"The tuple is empty.\")\n",
    "else:\n",
    "    print(f\"Maximum value is: {max(t)}\")\n",
    "    print(f\"Minimum value is: {min(t)}\")\n"
   ]
  },
  {
   "cell_type": "code",
   "execution_count": 7,
   "metadata": {},
   "outputs": [
    {
     "name": "stdout",
     "output_type": "stream",
     "text": [
      "The sum of the tuples is: (5, 7, 9)\n"
     ]
    }
   ],
   "source": [
    "#Q2 --> Sum of two tuples\n",
    "def addTuples(t1, t2):\n",
    "    if len(t1) != len(t2):\n",
    "        print(\"The length of tuples must be the same for addition\")\n",
    "        return None\n",
    "    \n",
    "    return tuple(x + y for x, y in zip(t1, t2))\n",
    "\n",
    "tuple1 = (1, 2, 3)\n",
    "tuple2 = (4, 5, 6)\n",
    "\n",
    "print(f\"The sum of the tuples is: {addTuples(tuple1, tuple2)}\")"
   ]
  },
  {
   "cell_type": "code",
   "execution_count": 8,
   "metadata": {},
   "outputs": [
    {
     "name": "stdout",
     "output_type": "stream",
     "text": [
      "(1,)\n",
      "(1, 4)\n",
      "(1, 4, 8)\n"
     ]
    }
   ],
   "source": [
    "#Q3 --> Duplicating a tuple\n",
    "from copy import deepcopy\n",
    "\n",
    "tup2 = tuple()\n",
    "tup1 =  deepcopy(tup2)\n",
    "\n",
    "for i in range(int(input(\"Total number of values: \"))):\n",
    "    a = int(input(\"Enter element in tuple 1: \"))\n",
    "    tup1 = tup1 + (a,)\n",
    "    put = deepcopy(tup1)\n",
    "    print(put)"
   ]
  },
  {
   "cell_type": "code",
   "execution_count": 11,
   "metadata": {},
   "outputs": [
    {
     "name": "stdout",
     "output_type": "stream",
     "text": [
      "Updated tuple: (1, 4, 6, 9, 10)\n",
      "Slice [0:3]: (1, 4, 6)\n",
      "Slice [1:4:2]: (4, 9)\n"
     ]
    }
   ],
   "source": [
    "#Q4 --> Slicing tuple\n",
    "tup1 = tuple()\n",
    "\n",
    "for i in range(int(input(\"Enter the number of values: \"))):\n",
    "    a = int(input(\"Enter element: \"))\n",
    "    tup1 += (a, )\n",
    "\n",
    "print(f\"Updated tuple: {tup1}\")\n",
    "print(f\"Slice [0:3]: {tup1[0:3]}\")\n",
    "print(f\"Slice [1:4:2]: {tup1[1:4:2]}\")"
   ]
  },
  {
   "cell_type": "code",
   "execution_count": 15,
   "metadata": {},
   "outputs": [
    {
     "name": "stdout",
     "output_type": "stream",
     "text": [
      "['apples', 'banana', 'cherry']\n"
     ]
    }
   ],
   "source": [
    "#Q5 --> Obtaining a list from the list of tuples\n",
    "listOfTuples = [(1, 'apples'), (2, 'banana'), (3, 'cherry')]\n",
    "\n",
    "resultList = [item[1] for item in listOfTuples]\n",
    "\n",
    "print(resultList)"
   ]
  },
  {
   "cell_type": "code",
   "execution_count": 17,
   "metadata": {},
   "outputs": [
    {
     "name": "stdout",
     "output_type": "stream",
     "text": [
      "t1 == t2: False\n",
      "t1 > t2: True\n",
      "t1 < t2: False\n"
     ]
    }
   ],
   "source": [
    "#Q6 --> Comparing the tuples\n",
    "t1 = (8, 2, 3)\n",
    "t2 = (4, 5, 6)\n",
    "\n",
    "print(f\"t1 == t2: {t1 == t2}\")\n",
    "print(f\"t1 > t2: {t1 > t2}\")\n",
    "print(f\"t1 < t2: {t1 < t2}\")"
   ]
  },
  {
   "cell_type": "code",
   "execution_count": 1,
   "metadata": {},
   "outputs": [
    {
     "name": "stdout",
     "output_type": "stream",
     "text": [
      "('apples', 'bananas', 'oranges')\n",
      "(1, 3, 10, 12)\n"
     ]
    }
   ],
   "source": [
    "#7 --> Print two tuples of different data types\n",
    "strTuple = ('apples', 'bananas', 'oranges')\n",
    "intTuple = (1, 3, 10, 12)\n",
    "\n",
    "print(strTuple)\n",
    "print(intTuple)"
   ]
  },
  {
   "cell_type": "code",
   "execution_count": 12,
   "metadata": {},
   "outputs": [
    {
     "data": {
      "image/png": "[encoded data removed]",
      "text/plain": [
       "<Figure size 640x480 with 1 Axes>"
      ]
     },
     "metadata": {},
     "output_type": "display_data"
    }
   ],
   "source": [
    "#Q1 --> Program to implement a histogram\n",
    "import matplotlib.pyplot as plt\n",
    "\n",
    "def plotHistogram(data, bins = 30):\n",
    "    plt.hist(data, bins=bins)\n",
    "    plt.xlabel = 'Values'\n",
    "    plt.ylabel = 'Frequency'\n",
    "    plt.title = 'Histogram'\n",
    "    plt.grid(True)\n",
    "    plt.show()\n",
    "\n",
    "dataset = [1, 3, 5, 2, 30, 10, 20, 14, 12, 45, 60, 50, 43, 41, 49, 18, 17, 60]\n",
    "plotHistogram(dataset)\n"
   ]
  },
  {
   "cell_type": "markdown",
   "metadata": {},
   "source": [
    "**Lab_10**"
   ]
  },
  {
   "cell_type": "code",
   "execution_count": 13,
   "metadata": {},
   "outputs": [
    {
     "name": "stdout",
     "output_type": "stream",
     "text": [
      "The number of words: 449\n",
      "The number of characters: 3050\n",
      "The number of lines: 9\n"
     ]
    }
   ],
   "source": [
    "#Q2 --> Count the number of characters words and number of lines\n",
    "with open('labFile.txt', 'r') as fp:\n",
    "    numOfWords = 0\n",
    "    numOfChars = 0\n",
    "    numOfLines = 0\n",
    "\n",
    "    for line in fp:\n",
    "        numOfLines += 1\n",
    "        line = line.strip('\\n')\n",
    "        numOfChars += len(line)\n",
    "        wordList = line.split()\n",
    "        numOfWords += len(wordList)\n",
    "\n",
    "print(f\"The number of words: {numOfWords}\")\n",
    "print(f\"The number of characters: {numOfChars}\")\n",
    "print(f\"The number of lines: {numOfLines}\")"
   ]
  },
  {
   "cell_type": "code",
   "execution_count": 14,
   "metadata": {},
   "outputs": [
    {
     "name": "stdout",
     "output_type": "stream",
     "text": [
      "Lorem ipsum dolor sit amet, consectetur adipiscing elit. In fermentum tristique leo, sit amet mollis lectus dignissim sed. Maecenas eget ligula a massa tincidunt semper id sed purus. Nam turpis justo, interdum sed tempor quis, iaculis in odio. Nullam elementum neque non nunc egestas, eu interdum arcu rhoncus. Fusce eu dui at dolor cursus maximus id vel ipsum. Nulla facilisis porttitor sollicitudin. Duis placerat scelerisque ornare. Maecenas lacus tellus, vestibulum egestas sapien nec, eleifend facilisis metus. Vivamus ac vehicula risus. Suspendisse fringilla risus et rhoncus semper. Quisque non mattis dui, a mollis odio. Nullam molestie gravida dictum. Pellentesque ultricies ligula mollis dolor congue, in consectetur velit vehicula. Proin ut tellus odio. Aliquam laoreet aliquam gravida.\n",
      "\n",
      "\n",
      "\n",
      "Duis rutrum ipsum bibendum ipsum aliquet rutrum vitae sit amet mi. Vivamus iaculis eu massa quis luctus. Class aptent taciti sociosqu ad litora torquent per conubia nostra, per inceptos himenaeos. Aenean elementum arcu ac ornare hendrerit. Vivamus ac risus et ex vestibulum aliquam non ac libero. Suspendisse pharetra porttitor bibendum. Fusce tempus lectus id massa tempus, eget ornare dui venenatis.\n",
      "\n",
      "\n",
      "\n",
      "Curabitur imperdiet orci ligula, at cursus odio pulvinar vel. Ut in nisi non augue convallis laoreet eu vitae ipsum. Donec nisi erat, tempor ut eleifend vitae, vestibulum ut nulla. Morbi vitae felis pellentesque, aliquam velit vitae, ultricies orci. Morbi quis elementum elit. Aliquam aliquam nibh non ipsum tempus, a auctor orci aliquet. Praesent quis urna vitae arcu lacinia placerat nec at magna. In ligula odio, elementum luctus mattis non, malesuada ac enim. Vestibulum ut sollicitudin quam, nec lobortis justo. Donec quis finibus urna. Morbi nec eros sed metus ultrices maximus sed vel nunc. Proin lobortis metus at eleifend varius. Etiam dapibus neque massa, quis molestie augue laoreet sed. In accumsan aliquet nulla, at interdum nulla gravida in. Fusce luctus ligula augue, ut venenatis lacus fermentum eget. Vestibulum mauris sem, imperdiet vitae molestie sit amet, aliquet non eros.\n",
      "\n",
      "\n",
      "\n",
      "Aliquam laoreet lobortis iaculis. Vivamus tempus aliquet justo, ut pulvinar eros lobortis quis. Nulla facilisi. Fusce nec ex dictum risus tempor aliquam. Nullam eu suscipit leo, suscipit condimentum lorem. Nulla quis enim tincidunt, ornare lacus vitae, convallis mauris. Cras ut ante quis enim eleifend vestibulum.\n",
      "\n",
      "\n",
      "\n",
      "Donec tempus diam in magna ultricies, quis congue erat tincidunt. In a ligula eu tellus euismod varius vel id neque. Vestibulum tortor diam, interdum semper erat vitae, venenatis commodo ligula. Etiam vitae blandit augue. Cras et scelerisque nibh, ullamcorper iaculis arcu. Donec nunc ante, scelerisque nec suscipit ac, venenatis ultrices lectus. Vestibulum lacinia odio quis congue malesuada. Aliquam egestas interdum nulla, in imperdiet leo mattis molestie. Proin lobortis urna eu feugiat aliquam. Nulla maximus sagittis pharetra. Phasellus rhoncus fringilla orci vel molestie. Duis magna nulla, fringilla id convallis posuere, aliquam a ante.\n"
     ]
    }
   ],
   "source": [
    "# Q3 --> Reading a file\n",
    "with open('labFile.txt', 'r') as fp:\n",
    "    for line in fp:\n",
    "        print(line)"
   ]
  },
  {
   "cell_type": "code",
   "execution_count": 15,
   "metadata": {},
   "outputs": [
    {
     "name": "stdout",
     "output_type": "stream",
     "text": [
      "['Lorem', 'ipsum', 'dolor', 'sit', 'amet,', 'consectetur', 'adipiscing', 'elit.', 'In', 'fermentum', 'tristique', 'leo,', 'sit', 'amet', 'mollis', 'lectus', 'dignissim', 'sed.', 'Maecenas', 'eget', 'ligula', 'a', 'massa', 'tincidunt', 'semper', 'id', 'sed', 'purus.', 'Nam', 'turpis', 'justo,', 'interdum', 'sed', 'tempor', 'quis,', 'iaculis', 'in', 'odio.', 'Nullam', 'elementum', 'neque', 'non', 'nunc', 'egestas,', 'eu', 'interdum', 'arcu', 'rhoncus.', 'Fusce', 'eu', 'dui', 'at', 'dolor', 'cursus', 'maximus', 'id', 'vel', 'ipsum.', 'Nulla', 'facilisis', 'porttitor', 'sollicitudin.', 'Duis', 'placerat', 'scelerisque', 'ornare.', 'Maecenas', 'lacus', 'tellus,', 'vestibulum', 'egestas', 'sapien', 'nec,', 'eleifend', 'facilisis', 'metus.', 'Vivamus', 'ac', 'vehicula', 'risus.', 'Suspendisse', 'fringilla', 'risus', 'et', 'rhoncus', 'semper.', 'Quisque', 'non', 'mattis', 'dui,', 'a', 'mollis', 'odio.', 'Nullam', 'molestie', 'gravida', 'dictum.', 'Pellentesque', 'ultricies', 'ligula', 'mollis', 'dolor', 'congue,', 'in', 'consectetur', 'velit', 'vehicula.', 'Proin', 'ut', 'tellus', 'odio.', 'Aliquam', 'laoreet', 'aliquam', 'gravida.']\n",
      "[]\n",
      "['Duis', 'rutrum', 'ipsum', 'bibendum', 'ipsum', 'aliquet', 'rutrum', 'vitae', 'sit', 'amet', 'mi.', 'Vivamus', 'iaculis', 'eu', 'massa', 'quis', 'luctus.', 'Class', 'aptent', 'taciti', 'sociosqu', 'ad', 'litora', 'torquent', 'per', 'conubia', 'nostra,', 'per', 'inceptos', 'himenaeos.', 'Aenean', 'elementum', 'arcu', 'ac', 'ornare', 'hendrerit.', 'Vivamus', 'ac', 'risus', 'et', 'ex', 'vestibulum', 'aliquam', 'non', 'ac', 'libero.', 'Suspendisse', 'pharetra', 'porttitor', 'bibendum.', 'Fusce', 'tempus', 'lectus', 'id', 'massa', 'tempus,', 'eget', 'ornare', 'dui', 'venenatis.']\n",
      "[]\n",
      "['Curabitur', 'imperdiet', 'orci', 'ligula,', 'at', 'cursus', 'odio', 'pulvinar', 'vel.', 'Ut', 'in', 'nisi', 'non', 'augue', 'convallis', 'laoreet', 'eu', 'vitae', 'ipsum.', 'Donec', 'nisi', 'erat,', 'tempor', 'ut', 'eleifend', 'vitae,', 'vestibulum', 'ut', 'nulla.', 'Morbi', 'vitae', 'felis', 'pellentesque,', 'aliquam', 'velit', 'vitae,', 'ultricies', 'orci.', 'Morbi', 'quis', 'elementum', 'elit.', 'Aliquam', 'aliquam', 'nibh', 'non', 'ipsum', 'tempus,', 'a', 'auctor', 'orci', 'aliquet.', 'Praesent', 'quis', 'urna', 'vitae', 'arcu', 'lacinia', 'placerat', 'nec', 'at', 'magna.', 'In', 'ligula', 'odio,', 'elementum', 'luctus', 'mattis', 'non,', 'malesuada', 'ac', 'enim.', 'Vestibulum', 'ut', 'sollicitudin', 'quam,', 'nec', 'lobortis', 'justo.', 'Donec', 'quis', 'finibus', 'urna.', 'Morbi', 'nec', 'eros', 'sed', 'metus', 'ultrices', 'maximus', 'sed', 'vel', 'nunc.', 'Proin', 'lobortis', 'metus', 'at', 'eleifend', 'varius.', 'Etiam', 'dapibus', 'neque', 'massa,', 'quis', 'molestie', 'augue', 'laoreet', 'sed.', 'In', 'accumsan', 'aliquet', 'nulla,', 'at', 'interdum', 'nulla', 'gravida', 'in.', 'Fusce', 'luctus', 'ligula', 'augue,', 'ut', 'venenatis', 'lacus', 'fermentum', 'eget.', 'Vestibulum', 'mauris', 'sem,', 'imperdiet', 'vitae', 'molestie', 'sit', 'amet,', 'aliquet', 'non', 'eros.']\n",
      "[]\n",
      "['Aliquam', 'laoreet', 'lobortis', 'iaculis.', 'Vivamus', 'tempus', 'aliquet', 'justo,', 'ut', 'pulvinar', 'eros', 'lobortis', 'quis.', 'Nulla', 'facilisi.', 'Fusce', 'nec', 'ex', 'dictum', 'risus', 'tempor', 'aliquam.', 'Nullam', 'eu', 'suscipit', 'leo,', 'suscipit', 'condimentum', 'lorem.', 'Nulla', 'quis', 'enim', 'tincidunt,', 'ornare', 'lacus', 'vitae,', 'convallis', 'mauris.', 'Cras', 'ut', 'ante', 'quis', 'enim', 'eleifend', 'vestibulum.']\n",
      "[]\n",
      "['Donec', 'tempus', 'diam', 'in', 'magna', 'ultricies,', 'quis', 'congue', 'erat', 'tincidunt.', 'In', 'a', 'ligula', 'eu', 'tellus', 'euismod', 'varius', 'vel', 'id', 'neque.', 'Vestibulum', 'tortor', 'diam,', 'interdum', 'semper', 'erat', 'vitae,', 'venenatis', 'commodo', 'ligula.', 'Etiam', 'vitae', 'blandit', 'augue.', 'Cras', 'et', 'scelerisque', 'nibh,', 'ullamcorper', 'iaculis', 'arcu.', 'Donec', 'nunc', 'ante,', 'scelerisque', 'nec', 'suscipit', 'ac,', 'venenatis', 'ultrices', 'lectus.', 'Vestibulum', 'lacinia', 'odio', 'quis', 'congue', 'malesuada.', 'Aliquam', 'egestas', 'interdum', 'nulla,', 'in', 'imperdiet', 'leo', 'mattis', 'molestie.', 'Proin', 'lobortis', 'urna', 'eu', 'feugiat', 'aliquam.', 'Nulla', 'maximus', 'sagittis', 'pharetra.', 'Phasellus', 'rhoncus', 'fringilla', 'orci', 'vel', 'molestie.', 'Duis', 'magna', 'nulla,', 'fringilla', 'id', 'convallis', 'posuere,', 'aliquam', 'a', 'ante.']\n"
     ]
    }
   ],
   "source": [
    "# Q3 --> Split a file\n",
    "with open('labFile.txt', 'r') as fp:\n",
    "    for line in fp:\n",
    "        print(line.split())"
   ]
  },
  {
   "cell_type": "code",
   "execution_count": 19,
   "metadata": {},
   "outputs": [
    {
     "name": "stdout",
     "output_type": "stream",
     "text": [
      "File written successfully.\n"
     ]
    }
   ],
   "source": [
    "# Q6 --> Copy a file into another file\n",
    "\n",
    "with open('labFileCopy.txt', 'w') as dest:\n",
    "    with open('labFile.txt', 'r') as src:\n",
    "        for line in src:\n",
    "            dest.write(line)\n",
    "        print(\"File written successfully.\")"
   ]
  },
  {
   "cell_type": "code",
   "execution_count": 20,
   "metadata": {},
   "outputs": [],
   "source": [
    "# Q5 --> Write to a file\n",
    "with open('labFile.txt', 'w') as file:\n",
    "    file.write(\"This is the last lab class\\n\")\n",
    "\n"
   ]
  }
 ],
 "metadata": {
  "kernelspec": {
   "display_name": "Python 3",
   "language": "python",
   "name": "python3"
  },
  "language_info": {
   "codemirror_mode": {
    "name": "ipython",
    "version": 3
   },
   "file_extension": ".py",
   "mimetype": "text/x-python",
   "name": "python",
   "nbconvert_exporter": "python",
   "pygments_lexer": "ipython3",
   "version": "3.11.5"
  }
 },
 "nbformat": 4,
 "nbformat_minor": 2
}
