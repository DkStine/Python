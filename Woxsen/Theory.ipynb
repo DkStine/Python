{
 "cells": [
  {
   "cell_type": "code",
   "execution_count": 2,
   "metadata": {},
   "outputs": [
    {
     "name": "stdout",
     "output_type": "stream",
     "text": [
      "* \n",
      "* * \n",
      "* * * \n",
      "* * * * \n",
      "* * * * * \n"
     ]
    }
   ],
   "source": [
    "for i in range(1, 6):\n",
    "    for j in range(i):\n",
    "        print(\"*\", end= \" \")\n",
    "    print()"
   ]
  },
  {
   "cell_type": "code",
   "execution_count": 3,
   "metadata": {},
   "outputs": [
    {
     "name": "stdout",
     "output_type": "stream",
     "text": [
      "* * * * * \n",
      "* * * * \n",
      "* * * \n",
      "* * \n",
      "* \n"
     ]
    }
   ],
   "source": [
    "for i in range(5, 0, -1):\n",
    "    for j in range(i):\n",
    "        print(\"*\", end=\" \")\n",
    "    print()"
   ]
  },
  {
   "cell_type": "code",
   "execution_count": 4,
   "metadata": {},
   "outputs": [
    {
     "name": "stdout",
     "output_type": "stream",
     "text": [
      "1 \n",
      "2 2 \n",
      "3 3 3 \n",
      "4 4 4 4 \n",
      "5 5 5 5 5 \n"
     ]
    }
   ],
   "source": [
    "for i in range(1, 6):\n",
    "    for j in range(i):\n",
    "        print(i, end=\" \")\n",
    "    print()"
   ]
  },
  {
   "cell_type": "code",
   "execution_count": 6,
   "metadata": {},
   "outputs": [
    {
     "name": "stdout",
     "output_type": "stream",
     "text": [
      "            \n",
      "          * \n",
      "        * * \n",
      "      * * * \n",
      "    * * * * \n",
      "  * * * * * \n"
     ]
    }
   ],
   "source": [
    "for i in range(6):\n",
    "    for j in range(6 - i):\n",
    "        print(\" \", end=\" \")\n",
    "    for k in range(i):\n",
    "        print(\"*\", end=\" \")\n",
    "    print()"
   ]
  },
  {
   "cell_type": "code",
   "execution_count": 2,
   "metadata": {},
   "outputs": [
    {
     "name": "stdout",
     "output_type": "stream",
     "text": [
      "* * * * * * * \n",
      "*           * \n",
      "*           * \n",
      "* * * * * * * \n"
     ]
    }
   ],
   "source": [
    "for i in range(4):\n",
    "    if i == 0 or i == 3:\n",
    "        for j in range(7):\n",
    "            print(\"*\", end= \" \")\n",
    "    else:\n",
    "        for k in range(7):\n",
    "            if k == 0 or k == 6:\n",
    "                print(\"*\", end= \" \")\n",
    "            else:\n",
    "                print(\" \", end= \" \")\n",
    "                \n",
    "    print()"
   ]
  },
  {
   "cell_type": "code",
   "execution_count": 3,
   "metadata": {},
   "outputs": [
    {
     "name": "stdout",
     "output_type": "stream",
     "text": [
      "97\n"
     ]
    }
   ],
   "source": [
    "print(ord('a'))"
   ]
  },
  {
   "cell_type": "code",
   "execution_count": 7,
   "metadata": {},
   "outputs": [
    {
     "name": "stdout",
     "output_type": "stream",
     "text": [
      "Not armstrong\n"
     ]
    }
   ],
   "source": [
    "n = input(\"Enter the number: \")\n",
    "sum = 0\n",
    "# 153\n",
    "for i in n:\n",
    "    sum += int(i) ** len(n)\n",
    "\n",
    "if sum == int(n):\n",
    "    print(\"Armstrong\")\n",
    "else:\n",
    "    print(\"Not armstrong\")"
   ]
  },
  {
   "cell_type": "code",
   "execution_count": null,
   "metadata": {},
   "outputs": [
    {
     "name": "stdout",
     "output_type": "stream",
     "text": [
      "Fibonacci series:\n",
      "55\n"
     ]
    }
   ],
   "source": [
    "def fibSeries(n):\n",
    "    t1 = 0\n",
    "    t2 = 1\n",
    "\n",
    "    if n <= 0:\n",
    "        print(\"Enter natural number\")\n",
    "    elif n == 1:\n",
    "        print(t1)\n",
    "    elif n == 2:\n",
    "        print(t2)\n",
    "    else:\n",
    "        print(\"Fibonacci series:\")\n",
    "        # print(t1)\n",
    "        # print(t2)\n",
    "\n",
    "        count = 2\n",
    "        while count <= n:\n",
    "            tNew = t1 + t2\n",
    "            t1 = t2\n",
    "            t2 = tNew\n",
    "            count += 1\n",
    "\n",
    "        print(tNew)\n",
    "\n",
    "n = int(input())\n",
    "fibSeries(n)"
   ]
  },
  {
   "cell_type": "code",
   "execution_count": null,
   "metadata": {},
   "outputs": [
    {
     "name": "stdout",
     "output_type": "stream",
     "text": [
      "     1 \n",
      "    1 1 \n",
      "   1 2 1 \n",
      "  1 3 3 1 \n",
      " 1 4 6 4 1 \n"
     ]
    }
   ],
   "source": [
    "# Pascal's triangle\n",
    "from math import factorial\n",
    "\n",
    "n = int(input())\n",
    "\n",
    "for i in range(n):\n",
    "    for j in range(n - i):\n",
    "        print(end=\" \")\n",
    "    for k in range(i + 1):\n",
    "        print(int(factorial(i)/(factorial(k) * factorial(i - k))), end=\" \")\n",
    "    print()"
   ]
  },
  {
   "cell_type": "code",
   "execution_count": null,
   "metadata": {},
   "outputs": [
    {
     "name": "stdout",
     "output_type": "stream",
     "text": [
      "1 \n",
      "2 2 \n",
      "3 3 3 \n",
      "4 4 4 4 \n",
      "5 5 5 5 5 \n",
      "1 \n",
      "1 2 \n",
      "1 2 3 \n",
      "1 2 3 4 \n",
      "1 2 3 4 5 \n",
      "1 2 3 4 5 6 \n"
     ]
    }
   ],
   "source": [
    "for i in range(1, int(input()) + 1):\n",
    "    for j in range(i):\n",
    "        print(i, end=\" \")\n",
    "    print()\n",
    "\n",
    "for i in range(1, int(input()) + 1):\n",
    "    for j in range(1, i + 1):\n",
    "        print(j, end=\" \")\n",
    "    print()\n"
   ]
  },
  {
   "cell_type": "code",
   "execution_count": null,
   "metadata": {},
   "outputs": [
    {
     "name": "stdout",
     "output_type": "stream",
     "text": [
      "    * \n",
      "   * * \n",
      "  * * * \n",
      " * * * * \n",
      "* * * * * \n",
      "\n",
      "* \n",
      "* * \n",
      "* * * \n",
      "* * * * \n",
      "* * * * * \n"
     ]
    }
   ],
   "source": [
    "# Pyramid\n",
    "n = int(input())\n",
    "\n",
    "for i in range(1, n + 1):\n",
    "    for j in range(n - i):\n",
    "        print(end=\" \")\n",
    "    for k in range(i):\n",
    "        print(\"*\", end=\" \")\n",
    "    print()\n",
    "\n",
    "print()\n",
    "# Right angled triangle\n",
    "n = int(input())\n",
    "\n",
    "for i in range(1, n + 1):\n",
    "    # for j in range(n - i):\n",
    "    #     print(end=\" \")\n",
    "    for k in range(i):\n",
    "        print(\"*\", end=\" \")\n",
    "    print()\n"
   ]
  },
  {
   "cell_type": "code",
   "execution_count": null,
   "metadata": {},
   "outputs": [
    {
     "name": "stdout",
     "output_type": "stream",
     "text": [
      "2\n"
     ]
    }
   ],
   "source": [
    "l = ['abc', 'xyz', 'aba', '1221']\n",
    "count = 0\n",
    "\n",
    "for i in l:\n",
    "    if type(i) == str and i[0] == i[-1]:\n",
    "        count += 1\n",
    "\n",
    "print(count)\n"
   ]
  },
  {
   "cell_type": "code",
   "execution_count": null,
   "metadata": {},
   "outputs": [
    {
     "name": "stdout",
     "output_type": "stream",
     "text": [
      "[(2, 1), (1, 2), (2, 3), (4, 4), (2, 5)]\n"
     ]
    }
   ],
   "source": [
    "tup = [(2, 5), (1, 2), (4, 4), (2, 3), (2, 1)]\n",
    "l = []\n",
    "\n",
    "for i in tup:\n",
    "    l.append(i[-1])\n",
    "\n",
    "l.sort()\n",
    "\n",
    "sortedTup = []\n",
    "for j in l:\n",
    "    sortedTup.extend([x for x in tup if j == x[-1]])\n",
    "\n",
    "print(sortedTup)"
   ]
  },
  {
   "cell_type": "code",
   "execution_count": null,
   "metadata": {},
   "outputs": [
    {
     "ename": "KeyboardInterrupt",
     "evalue": "Interrupted by user",
     "output_type": "error",
     "traceback": [
      "\u001b[1;31m---------------------------------------------------------------------------\u001b[0m",
      "\u001b[1;31mKeyboardInterrupt\u001b[0m                         Traceback (most recent call last)",
      "\u001b[1;32md:\\Programming\\Python\\Woxsen\\Theory.ipynb Cell 14\u001b[0m line \u001b[0;36m6\n\u001b[0;32m      <a href='vscode-notebook-cell:/d%3A/Programming/Python/Woxsen/Theory.ipynb#X16sZmlsZQ%3D%3D?line=2'>3</a>\u001b[0m     \u001b[39mfor\u001b[39;00m i \u001b[39min\u001b[39;00m \u001b[39mrange\u001b[39m(\u001b[39m1\u001b[39m, \u001b[39m11\u001b[39m):\n\u001b[0;32m      <a href='vscode-notebook-cell:/d%3A/Programming/Python/Woxsen/Theory.ipynb#X16sZmlsZQ%3D%3D?line=3'>4</a>\u001b[0m         \u001b[39mprint\u001b[39m(\u001b[39mf\u001b[39m\u001b[39m\"\u001b[39m\u001b[39m{\u001b[39;00ma\u001b[39m}\u001b[39;00m\u001b[39m x \u001b[39m\u001b[39m{\u001b[39;00mi\u001b[39m}\u001b[39;00m\u001b[39m = \u001b[39m\u001b[39m{\u001b[39;00ma\u001b[39m \u001b[39m\u001b[39m*\u001b[39m\u001b[39m \u001b[39mi\u001b[39m}\u001b[39;00m\u001b[39m\"\u001b[39m)\n\u001b[1;32m----> <a href='vscode-notebook-cell:/d%3A/Programming/Python/Woxsen/Theory.ipynb#X16sZmlsZQ%3D%3D?line=5'>6</a>\u001b[0m b\u001b[39m=\u001b[39m\u001b[39mint\u001b[39m(\u001b[39minput\u001b[39;49m(\u001b[39m\"\u001b[39;49m\u001b[39mEnter the number of tables:\u001b[39;49m\u001b[39m\"\u001b[39;49m))\n\u001b[0;32m      <a href='vscode-notebook-cell:/d%3A/Programming/Python/Woxsen/Theory.ipynb#X16sZmlsZQ%3D%3D?line=6'>7</a>\u001b[0m table(b)\n",
      "File \u001b[1;32m~\\AppData\\Roaming\\Python\\Python311\\site-packages\\ipykernel\\kernelbase.py:1202\u001b[0m, in \u001b[0;36mKernel.raw_input\u001b[1;34m(self, prompt)\u001b[0m\n\u001b[0;32m   1200\u001b[0m     msg \u001b[39m=\u001b[39m \u001b[39m\"\u001b[39m\u001b[39mraw_input was called, but this frontend does not support input requests.\u001b[39m\u001b[39m\"\u001b[39m\n\u001b[0;32m   1201\u001b[0m     \u001b[39mraise\u001b[39;00m StdinNotImplementedError(msg)\n\u001b[1;32m-> 1202\u001b[0m \u001b[39mreturn\u001b[39;00m \u001b[39mself\u001b[39;49m\u001b[39m.\u001b[39;49m_input_request(\n\u001b[0;32m   1203\u001b[0m     \u001b[39mstr\u001b[39;49m(prompt),\n\u001b[0;32m   1204\u001b[0m     \u001b[39mself\u001b[39;49m\u001b[39m.\u001b[39;49m_parent_ident[\u001b[39m\"\u001b[39;49m\u001b[39mshell\u001b[39;49m\u001b[39m\"\u001b[39;49m],\n\u001b[0;32m   1205\u001b[0m     \u001b[39mself\u001b[39;49m\u001b[39m.\u001b[39;49mget_parent(\u001b[39m\"\u001b[39;49m\u001b[39mshell\u001b[39;49m\u001b[39m\"\u001b[39;49m),\n\u001b[0;32m   1206\u001b[0m     password\u001b[39m=\u001b[39;49m\u001b[39mFalse\u001b[39;49;00m,\n\u001b[0;32m   1207\u001b[0m )\n",
      "File \u001b[1;32m~\\AppData\\Roaming\\Python\\Python311\\site-packages\\ipykernel\\kernelbase.py:1245\u001b[0m, in \u001b[0;36mKernel._input_request\u001b[1;34m(self, prompt, ident, parent, password)\u001b[0m\n\u001b[0;32m   1242\u001b[0m \u001b[39mexcept\u001b[39;00m \u001b[39mKeyboardInterrupt\u001b[39;00m:\n\u001b[0;32m   1243\u001b[0m     \u001b[39m# re-raise KeyboardInterrupt, to truncate traceback\u001b[39;00m\n\u001b[0;32m   1244\u001b[0m     msg \u001b[39m=\u001b[39m \u001b[39m\"\u001b[39m\u001b[39mInterrupted by user\u001b[39m\u001b[39m\"\u001b[39m\n\u001b[1;32m-> 1245\u001b[0m     \u001b[39mraise\u001b[39;00m \u001b[39mKeyboardInterrupt\u001b[39;00m(msg) \u001b[39mfrom\u001b[39;00m \u001b[39mNone\u001b[39;00m\n\u001b[0;32m   1246\u001b[0m \u001b[39mexcept\u001b[39;00m \u001b[39mException\u001b[39;00m:\n\u001b[0;32m   1247\u001b[0m     \u001b[39mself\u001b[39m\u001b[39m.\u001b[39mlog\u001b[39m.\u001b[39mwarning(\u001b[39m\"\u001b[39m\u001b[39mInvalid Message:\u001b[39m\u001b[39m\"\u001b[39m, exc_info\u001b[39m=\u001b[39m\u001b[39mTrue\u001b[39;00m)\n",
      "\u001b[1;31mKeyboardInterrupt\u001b[0m: Interrupted by user"
     ]
    }
   ],
   "source": [
    "#Create a program that generates a multiplication table from 1 to 10 using nested loops.\n",
    "def table(a):\n",
    "    for i in range(1, 11):\n",
    "        print(f\"{a} x {i} = {a * i}\")\n",
    "\n",
    "b=int(input(\"Enter the number of tables:\"))\n",
    "table(b)"
   ]
  },
  {
   "cell_type": "code",
   "execution_count": null,
   "metadata": {},
   "outputs": [
    {
     "name": "stdout",
     "output_type": "stream",
     "text": [
      "[1, 2, 3]\n"
     ]
    }
   ],
   "source": [
    "l = [1, 2, 3, 2, 1]\n",
    "uniqueList = []\n",
    "\n",
    "for i in l:\n",
    "    if i not in uniqueList:\n",
    "        uniqueList.append(i)\n",
    "\n",
    "print(uniqueList)"
   ]
  },
  {
   "cell_type": "code",
   "execution_count": null,
   "metadata": {},
   "outputs": [
    {
     "name": "stdout",
     "output_type": "stream",
     "text": [
      "False\n"
     ]
    }
   ],
   "source": [
    "def isPrime(n):\n",
    "    # flag = True\n",
    "    for i in range(2, int(n**0.5) + 1):\n",
    "        if n % i == 0:\n",
    "            # flag = False\n",
    "            return False\n",
    "    \n",
    "    return True\n",
    "\n",
    "def detectUgly(n):\n",
    "    primeFactorList = []\n",
    "\n",
    "    for i in range(2, n):\n",
    "        if n % i == 0 and isPrime(i):\n",
    "            primeFactorList.append(i)\n",
    "    \n",
    "    for j in primeFactorList:\n",
    "        if j not in [2, 3, 5]:\n",
    "            return False\n",
    "        \n",
    "    return True\n",
    "\n",
    "print(detectUgly(210))\n"
   ]
  },
  {
   "cell_type": "code",
   "execution_count": null,
   "metadata": {},
   "outputs": [
    {
     "name": "stdout",
     "output_type": "stream",
     "text": [
      "1**2**3**4\n"
     ]
    }
   ],
   "source": [
    "l = [1, 2, 3, 4]\n",
    "print(\"**\".join(str(x) for x in l))"
   ]
  },
  {
   "cell_type": "markdown",
   "metadata": {},
   "source": [
    "**Revision**"
   ]
  },
  {
   "cell_type": "code",
   "execution_count": null,
   "metadata": {},
   "outputs": [
    {
     "name": "stdout",
     "output_type": "stream",
     "text": [
      "1\n",
      "2\n",
      "3\n",
      "4\n",
      "5\n",
      "Out of the loop\n"
     ]
    }
   ],
   "source": [
    "x = 1\n",
    "while x <= 7:\n",
    "    if x == 6:\n",
    "        break\n",
    "    else:\n",
    "        print(x)\n",
    "        x += 1\n",
    "\n",
    "print(\"Out of the loop\")"
   ]
  },
  {
   "cell_type": "code",
   "execution_count": null,
   "metadata": {},
   "outputs": [
    {
     "name": "stdout",
     "output_type": "stream",
     "text": [
      "1\n",
      "2\n",
      "3\n",
      "4\n"
     ]
    },
    {
     "ename": "KeyboardInterrupt",
     "evalue": "",
     "output_type": "error",
     "traceback": [
      "\u001b[1;31m---------------------------------------------------------------------------\u001b[0m",
      "\u001b[1;31mKeyboardInterrupt\u001b[0m                         Traceback (most recent call last)",
      "Cell \u001b[1;32mIn[9], line 5\u001b[0m\n\u001b[0;32m      2\u001b[0m \u001b[38;5;28;01mwhile\u001b[39;00m x \u001b[38;5;241m<\u001b[39m\u001b[38;5;241m=\u001b[39m \u001b[38;5;241m7\u001b[39m:\n\u001b[0;32m      3\u001b[0m     \u001b[38;5;28;01mif\u001b[39;00m x \u001b[38;5;241m==\u001b[39m \u001b[38;5;241m5\u001b[39m:\n\u001b[0;32m      4\u001b[0m         \u001b[38;5;66;03m# x += 1\u001b[39;00m\n\u001b[1;32m----> 5\u001b[0m         \u001b[38;5;28;01mcontinue\u001b[39;00m\n\u001b[0;32m      6\u001b[0m     \u001b[38;5;28mprint\u001b[39m(x)\n\u001b[0;32m      7\u001b[0m     x \u001b[38;5;241m+\u001b[39m\u001b[38;5;241m=\u001b[39m \u001b[38;5;241m1\u001b[39m\n",
      "\u001b[1;31mKeyboardInterrupt\u001b[0m: "
     ]
    }
   ],
   "source": [
    "x = 1\n",
    "while x <= 7:\n",
    "    if x == 5:\n",
    "        # x += 1\n",
    "        continue\n",
    "    print(x)\n",
    "    x += 1"
   ]
  },
  {
   "cell_type": "code",
   "execution_count": null,
   "metadata": {},
   "outputs": [
    {
     "name": "stdout",
     "output_type": "stream",
     "text": [
      "abcdefghijklmnopqrstuvwxyzABCDEFGHIJKLMNOPQRSTUVWXYZ\n",
      "abcdefghijklmnopqrstuvwxyz\n",
      "0123456789\n"
     ]
    }
   ],
   "source": [
    "import string\n",
    "from string import ascii_letters\n",
    "\n",
    "print(ascii_letters)\n",
    "print(string.ascii_lowercase)\n",
    "# print(string.whitespace)\n",
    "print(string.digits)"
   ]
  },
  {
   "cell_type": "code",
   "execution_count": null,
   "metadata": {},
   "outputs": [
    {
     "name": "stdout",
     "output_type": "stream",
     "text": [
      "True\n",
      "' '\n",
      "'\\t'\n",
      "'\\n'\n",
      "'\\r'\n",
      "'\\x0b'\n",
      "'\\x0c'\n",
      " \t\n",
      "\u000b\f\n"
     ]
    }
   ],
   "source": [
    "if \" \" in string.whitespace:\n",
    "    print(True)\n",
    "for i in string.whitespace:\n",
    "    print(repr(i))\n",
    "\n",
    "print(string.whitespace)"
   ]
  },
  {
   "cell_type": "code",
   "execution_count": null,
   "metadata": {},
   "outputs": [
    {
     "name": "stdout",
     "output_type": "stream",
     "text": [
      "['hello', ' world', ' dk', ' kk, chekke, meke']\n",
      "This string\n",
      "has \n",
      "three lines\n",
      "\n",
      "['This string', 'has ', 'three lines']\n",
      "This string\n",
      "This string=has =three lines\n"
     ]
    }
   ],
   "source": [
    "st = 'hello, world, dk, kk, chekke, meke'\n",
    "print(st.split(',', 3))\n",
    "\n",
    "st = \"\"\"This string\n",
    "has \n",
    "three lines\n",
    "\"\"\"\n",
    "print(st)\n",
    "stList = st.splitlines()\n",
    "print(stList)\n",
    "print(stList[0])\n",
    "stJoined = \"=\".join(stList)\n",
    "print(stJoined)"
   ]
  },
  {
   "cell_type": "code",
   "execution_count": null,
   "metadata": {},
   "outputs": [
    {
     "name": "stdout",
     "output_type": "stream",
     "text": [
      "' '\n",
      "'\\t'\n",
      "'\\n'\n",
      "'\\r'\n",
      "'\\x0b'\n",
      "'\\x0c'\n",
      "helloworld      \n",
      "DAtar\n"
     ]
    }
   ],
   "source": [
    "for i in string.whitespace:\n",
    "    print(repr(i))\n",
    "st = \"      \\n helloworld      \"\n",
    "print(st.lstrip())\n",
    "\n",
    "value = \"637467=DAtar87768\"\n",
    "print(value.strip(string.digits + \"=\"))"
   ]
  },
  {
   "cell_type": "code",
   "execution_count": null,
   "metadata": {},
   "outputs": [
    {
     "name": "stdout",
     "output_type": "stream",
     "text": [
      "sdf-------\n",
      "+++++++sdf\n"
     ]
    }
   ],
   "source": [
    "s = \"sdf\"\n",
    "print(s.ljust(10, '-'))\n",
    "print(s.rjust(10, '+'))"
   ]
  },
  {
   "cell_type": "code",
   "execution_count": null,
   "metadata": {},
   "outputs": [
    {
     "name": "stdout",
     "output_type": "stream",
     "text": [
      "og\tdk    \n"
     ]
    }
   ],
   "source": [
    "print(\"og\\tdk    \")\n",
    "# print(\"Dee\\tpak\")"
   ]
  },
  {
   "cell_type": "code",
   "execution_count": null,
   "metadata": {},
   "outputs": [
    {
     "name": "stdout",
     "output_type": "stream",
     "text": [
      "['u' 'ipop']\n"
     ]
    }
   ],
   "source": [
    "from numpy import array\n",
    "\n",
    "\n",
    "s = array(['u', 'ipop'])\n",
    "print(s)"
   ]
  },
  {
   "cell_type": "markdown",
   "metadata": {},
   "source": [
    "**File Handling**"
   ]
  },
  {
   "cell_type": "code",
   "execution_count": null,
   "metadata": {},
   "outputs": [
    {
     "name": "stdout",
     "output_type": "stream",
     "text": [
      "Lorem ipsum dolor sit amet, consectetur adipiscing elit. Aenean sit amet diam dolor. Pellentesque habitant morbi tristique senectus et netus et malesuada fames ac turpis egestas. Cras ipsum sem, consequat sit amet euismod eu, consequat nec ante. Vestibulum purus ante, accumsan id tortor ac, interdum faucibus urna. Nam gravida ac magna vitae vulputate. Donec efficitur elit sed lectus ultrices vulputate. Donec aliquam semper velit non finibus. Pellentesque iaculis dui diam, et laoreet orci aliquam non. Suspendisse iaculis posuere lorem, ut posuere turpis pretium vitae. Mauris eget eleifend turpis. Maecenas sed sodales mi. Ut convallis tristique felis, eget consectetur quam sollicitudin id. Cras felis urna, blandit sed aliquet vel, consectetur quis diam. Nam sed tortor sodales, lobortis lectus sed, interdum nunc. Maecenas consequat elit vel tellus scelerisque tristique. Nullam tincidunt eget nisl finibus rutrum.\n",
      "\n",
      "Fusce hendrerit nisl sed nisi volutpat, ut dignissim eros sagittis. Nulla nibh lorem, pulvinar non pellentesque ut, tincidunt a eros. Proin mattis tincidunt metus, ut hendrerit libero. Quisque id est turpis. Donec eros velit, rutrum in mauris non, vehicula viverra mi. Vestibulum quis neque sit amet enim efficitur malesuada. Sed vel velit risus. Morbi sed bibendum diam. Praesent sed sagittis ante, nec fermentum dui. Vestibulum sed lorem tempus, placerat enim non, egestas arcu. Integer finibus eros enim, ut malesuada mauris lobortis sed.\n",
      "\n",
      "Cras felis arcu, tincidunt eu eleifend vel, sodales ac leo. Quisque congue, urna id posuere auctor, dui lacus sodales nunc, nec elementum tellus erat ac tortor. Donec ac malesuada libero, id aliquet nibh. Curabitur porta velit sed turpis posuere, non tincidunt lacus scelerisque. Curabitur tempus sodales semper. Nam non magna eu orci aliquet auctor eu ut velit. Duis ut semper enim. Vivamus sit amet odio odio. Sed molestie dolor vel nisl pretium, ut ornare est aliquam. In vitae lectus porta, ultricies ex id, sollicitudin tellus. Sed velit nulla, convallis ultrices velit non, placerat varius nunc. Curabitur pharetra mollis ullamcorper. Maecenas felis sapien, condimentum eget facilisis elementum, iaculis in sapien.\n",
      "\n",
      "Praesent mollis justo maximus, venenatis elit at, interdum nisi. Duis eget enim varius elit condimentum auctor. Etiam nec augue vitae mi ornare blandit ac non enim. Sed congue ullamcorper ullamcorper. Donec tristique sollicitudin interdum. Aliquam aliquet nec ipsum ut facilisis. Morbi lacus odio, elementum vitae velit in, efficitur auctor ex. Nullam fermentum, odio sit amet tristique molestie, risus est finibus nulla, sit amet aliquam tortor augue in turpis. Sed sem lectus, iaculis placerat augue eget, dapibus feugiat elit. In sit amet odio fringilla, sagittis purus maximus, consequat lorem. Donec dignissim velit vitae eleifend semper. Donec scelerisque, velit eu ultrices bibendum, massa sapien viverra tortor, non eleifend tortor elit vitae tellus.\n",
      "\n",
      "Aliquam eget diam quis quam suscipit finibus id ut lorem. Praesent egestas eros at ex dapibus egestas. Vestibulum quis finibus magna, ut auctor neque. Nulla mollis nec ex blandit aliquam. Sed risus mi, vestibulum vel risus eget, venenatis feugiat ligula. Etiam ultricies massa eu sem lobortis dignissim. Quisque et quam scelerisque, vehicula lorem vel, faucibus mauris. Aliquam elit risus, euismod non elementum id, consequat sit amet diam. Curabitur dui nibh, feugiat id magna quis, tristique tincidunt sapien. Praesent rutrum a nulla ac mattis.\n"
     ]
    }
   ],
   "source": [
    "fp = open('test.txt')\n",
    "\n",
    "# x = fp.read()\n",
    "# y = fp.readlines()\n",
    "for statement in fp:\n",
    "    print(statement.strip())\n",
    "# for i in y:\n",
    "#     print(i)\n",
    "# print(y)"
   ]
  },
  {
   "cell_type": "code",
   "execution_count": null,
   "metadata": {},
   "outputs": [
    {
     "name": "stdout",
     "output_type": "stream",
     "text": [
      "file status => False\n",
      "file status => True\n",
      "Mode => w\n",
      "filename => test.txt\n"
     ]
    }
   ],
   "source": [
    "fp = open('test.txt', 'w')\n",
    "\n",
    "fp.write('dkjfkdjfkdjfkdjfkdjfkdj')\n",
    "print(f'file status => {fp.closed}')\n",
    "fp.close()\n",
    "print(f'file status => {fp.closed}')\n",
    "print(f'Mode => {fp.mode}')\n",
    "print(f'filename => {fp.name}')"
   ]
  },
  {
   "cell_type": "code",
   "execution_count": null,
   "metadata": {},
   "outputs": [
    {
     "name": "stdout",
     "output_type": "stream",
     "text": [
      "['Class', 'Student', 'ID']\n",
      "['aiml', 'dk', '34565']\n",
      "['ai', 'dd', '65677']\n"
     ]
    }
   ],
   "source": [
    "import csv\n",
    "\n",
    "\n",
    "with open('PracticeCsv.csv', 'w+', newline=\"\") as fp:\n",
    "    cw = csv.writer(fp)\n",
    "    cw.writerow(['Class', 'Student', 'ID'])\n",
    "    cw.writerows([['aiml','dk',34565],['ai','dd',65677]])\n",
    "    fp.seek(0)\n",
    "    cr = csv.reader(fp)\n",
    "    for i in cr:\n",
    "        print(i)\n",
    "\n",
    "# with open('PracticeCsv.csv', 'r') as fr:\n",
    "#     cr = csv.reader(fr)\n",
    "#     for i in cr:\n",
    "#         print(i)"
   ]
  },
  {
   "cell_type": "markdown",
   "metadata": {},
   "source": []
  },
  {
   "cell_type": "code",
   "execution_count": null,
   "metadata": {},
   "outputs": [
    {
     "name": "stdout",
     "output_type": "stream",
     "text": [
      "[43, 64, 78, 90, 64, [3, 4, 5]]\n",
      "[43, 64, 78, 90, 64, [3, 4, 5], 3, 4, 5]\n"
     ]
    }
   ],
   "source": [
    "l = [43, 64, 78, 90, 64]\n",
    "l2 = [3, 4, 5]\n",
    "# print(l.index(64))\n",
    "# print(l.count(64))\n",
    "\n",
    "l.append(l2)\n",
    "print(l)\n",
    "l.extend(l2)\n",
    "print(l)"
   ]
  },
  {
   "cell_type": "code",
   "execution_count": null,
   "metadata": {},
   "outputs": [
    {
     "name": "stdout",
     "output_type": "stream",
     "text": [
      "[64]\n",
      "[43, 64, 78, 90, 64]\n",
      "[43, 64, 67, 78, 90, 64]\n",
      "['name', 'man', 'woman', 'men', 'kate', 'thomas']\n",
      "['name', 'man', 'kate', 'thomas']\n"
     ]
    }
   ],
   "source": [
    "l = [43, 64, 78, 90, 64]\n",
    "print(l[-1::])\n",
    "print(l)\n",
    "\n",
    "l.insert(2, 67)\n",
    "print(l)\n",
    "l2 = ['name', 'kate', 'thomas']\n",
    "l2[1:1] = ['man', 'woman', 'men']\n",
    "print(l2)\n",
    "l2[2:4] = []\n",
    "print(l2)"
   ]
  },
  {
   "cell_type": "code",
   "execution_count": null,
   "metadata": {},
   "outputs": [
    {
     "name": "stdout",
     "output_type": "stream",
     "text": [
      "['thomas', 'name', 'kate']\n",
      "['name', 'kate', 'thomas', 'sa']\n",
      "1\n"
     ]
    }
   ],
   "source": [
    "l2 = ['name', 'kate', 'thomas']\n",
    "# del l2[:]\n",
    "# print(l2)\n",
    "print(sorted(l2, reverse=True))\n",
    "\n",
    "x = l2.append('sa')\n",
    "print(l2)\n",
    "\n",
    "x = l2.count('name')\n",
    "print(x)"
   ]
  },
  {
   "cell_type": "code",
   "execution_count": null,
   "metadata": {},
   "outputs": [
    {
     "ename": "IndexError",
     "evalue": "list index out of range",
     "output_type": "error",
     "traceback": [
      "\u001b[1;31m---------------------------------------------------------------------------\u001b[0m",
      "\u001b[1;31mIndexError\u001b[0m                                Traceback (most recent call last)",
      "Cell \u001b[1;32mIn[13], line 8\u001b[0m\n\u001b[0;32m      2\u001b[0m \u001b[38;5;66;03m# del avengers[:-1]\u001b[39;00m\n\u001b[0;32m      3\u001b[0m \u001b[38;5;66;03m# print(avengers)\u001b[39;00m\n\u001b[0;32m      4\u001b[0m \u001b[38;5;66;03m# avengers.extend([\"Doctoor strange\", 'kdfjdk'])\u001b[39;00m\n\u001b[0;32m      5\u001b[0m \u001b[38;5;66;03m# print(avengers)\u001b[39;00m\n\u001b[0;32m      7\u001b[0m \u001b[38;5;28;01mfor\u001b[39;00m i \u001b[38;5;129;01min\u001b[39;00m \u001b[38;5;28mrange\u001b[39m(\u001b[38;5;28mlen\u001b[39m(avengers)):\n\u001b[1;32m----> 8\u001b[0m     \u001b[38;5;28;01mif\u001b[39;00m \u001b[43mavengers\u001b[49m\u001b[43m[\u001b[49m\u001b[43mi\u001b[49m\u001b[43m]\u001b[49m \u001b[38;5;241m==\u001b[39m \u001b[38;5;124m'\u001b[39m\u001b[38;5;124mSpiderman\u001b[39m\u001b[38;5;124m'\u001b[39m:\n\u001b[0;32m      9\u001b[0m         \u001b[38;5;28;01mpass\u001b[39;00m\n\u001b[0;32m     10\u001b[0m     \u001b[38;5;28;01melse\u001b[39;00m:\n",
      "\u001b[1;31mIndexError\u001b[0m: list index out of range"
     ]
    }
   ],
   "source": [
    "avengers = ['Iron man', 'Captain America', 'Spiderman', 'Black Widow', 'Hulk', 'Thor', 'Hawkeye']\n",
    "# del avengers[:-1]\n",
    "# print(avengers)\n",
    "# avengers.extend([\"Doctor strange\", 'kdfjdk'])\n",
    "# print(avengers)\n",
    "\n"
   ]
  },
  {
   "cell_type": "code",
   "execution_count": null,
   "metadata": {},
   "outputs": [
    {
     "name": "stdout",
     "output_type": "stream",
     "text": [
      "['Iron man', 'Captain America', 'Spiderman', 'Black Widow', 'Hulk', 'Thor']\n",
      "The element deleted is:  Hawkeye\n"
     ]
    }
   ],
   "source": [
    "avengers = ['Iron man', 'Captain America', 'Spiderman', 'Black Widow', 'Hulk', 'Thor', 'Hawkeye']\n",
    "x = avengers.pop()\n",
    "print(avengers)\n",
    "print(\"The element deleted is: \", x)"
   ]
  },
  {
   "cell_type": "code",
   "execution_count": null,
   "metadata": {},
   "outputs": [
    {
     "name": "stdout",
     "output_type": "stream",
     "text": [
      "('Iron man', 'Captain America', 'Spiderman', 'Black Widow', 'Hulk', 'Thor')\n",
      "['Captain America', 'Black Widow', 'Spiderman', 'Iron man', 'Hulk', 'Thor']\n"
     ]
    }
   ],
   "source": [
    "avengersTuple = tuple(avengers)\n",
    "print(avengersTuple)\n",
    "avengersSortedTuple = sorted(avengersTuple, reverse=True, key=len)\n",
    "print(avengersSortedTuple)"
   ]
  },
  {
   "cell_type": "markdown",
   "metadata": {},
   "source": [
    "***"
   ]
  },
  {
   "cell_type": "markdown",
   "metadata": {},
   "source": [
    "* Sets"
   ]
  },
  {
   "cell_type": "code",
   "execution_count": null,
   "metadata": {},
   "outputs": [
    {
     "name": "stdout",
     "output_type": "stream",
     "text": [
      "{1, 2, 3, 4, 8}\n",
      "{0, 1, 2, 3, 4, 8}\n",
      "{0, 1, 2, 4, 8}\n",
      "{8, 4}\n",
      "False\n"
     ]
    }
   ],
   "source": [
    "a = {1, 2, 3, 4, 8}\n",
    "b = {4, 5, 6, 7, 8}\n",
    "subOfa = {3}\n",
    "\n",
    "a.add(8)\n",
    "print(a)\n",
    "# a.clear()\n",
    "a.add(0)\n",
    "print(a)\n",
    "a.discard(3)\n",
    "print(a)\n",
    "# a.difference_update(b)\n",
    "# print(a)\n",
    "print(a.intersection(b))\n",
    "print(a.issuperset(subOfa))"
   ]
  },
  {
   "cell_type": "code",
   "execution_count": null,
   "metadata": {},
   "outputs": [
    {
     "name": "stdout",
     "output_type": "stream",
     "text": [
      "['name', 'sohan', 'kate', 'thomas']\n"
     ]
    }
   ],
   "source": [
    "l = ['name', 'kate', 'thomas']\n",
    "l[1:1] = ['sohan']\n",
    "\n",
    "print(l)"
   ]
  },
  {
   "cell_type": "code",
   "execution_count": null,
   "metadata": {},
   "outputs": [
    {
     "name": "stdout",
     "output_type": "stream",
     "text": [
      "['topek', 'akansas', 'cityvimal', 'olathe']\n",
      "topek-akansas-cityvimal-olathe\n",
      "['This is the first line', 'Second line', 'Third line', 'Fourth line']\n",
      "This is the first line\n",
      "Second line\n",
      "Third line\n",
      "Fourth line\n"
     ]
    }
   ],
   "source": [
    "st = 'topek&akansas&cityvimal&olathe'\n",
    "cities = st.rsplit('&')\n",
    "print(cities)\n",
    "# for i in cities:\n",
    "#     print(i)\n",
    "joinedStr = \"-\".join(cities)\n",
    "print(joinedStr)\n",
    "\n",
    "st = \"\"\"This is the first line\n",
    "Second line\n",
    "Third line\n",
    "Fourth line\"\"\"\n",
    "print(st.splitlines())\n",
    "for i in st.splitlines():\n",
    "    print(i)"
   ]
  },
  {
   "cell_type": "code",
   "execution_count": null,
   "metadata": {},
   "outputs": [
    {
     "name": "stdout",
     "output_type": "stream",
     "text": [
      "startdjfkdjf\n"
     ]
    }
   ],
   "source": [
    "print(\"sdfjkdjfkdjf\\rstart\")"
   ]
  },
  {
   "cell_type": "markdown",
   "metadata": {},
   "source": [
    "**Functions**"
   ]
  },
  {
   "cell_type": "markdown",
   "metadata": {},
   "source": [
    "*UserDefined*"
   ]
  },
  {
   "cell_type": "code",
   "execution_count": null,
   "metadata": {},
   "outputs": [
    {
     "name": "stdout",
     "output_type": "stream",
     "text": [
      "234\n"
     ]
    }
   ],
   "source": [
    "def add(*varargs):\n",
    "    # sum = num1 + num2\n",
    "    sum = 0\n",
    "    for i in varargs:\n",
    "        sum += i\n",
    "    return sum\n",
    "\n",
    "print(add(1, 2, 3, 4, 78, 90, 56))"
   ]
  },
  {
   "cell_type": "markdown",
   "metadata": {},
   "source": [
    "**Dictionary**"
   ]
  },
  {
   "cell_type": "code",
   "execution_count": null,
   "metadata": {},
   "outputs": [
    {
     "name": "stdout",
     "output_type": "stream",
     "text": [
      "30\n",
      "30\n",
      "30\n",
      "80\n",
      "80\n",
      "{'Ram': None, 'Shyam': None}\n"
     ]
    }
   ],
   "source": [
    "#Accessing Dictionary Values\n",
    "d={'Ram': 30, \n",
    "'Jai': 40, 'Hari': 25, \n",
    "'Shyam': 30, \n",
    "'Jhon': 25}\n",
    "x=d['Ram']\n",
    "print(x)# 30\n",
    "print(d['Ram'])# 30\n",
    "print(d.get('Ram'))# 30\n",
    "print(d.setdefault(\"James\", 80))# 30\n",
    "#KeyError--if key is not present python raises exception\n",
    "print(d['James'])# KeyError: 'James'\n",
    "\n",
    "keyValueList = ['Ram', 'Shyam']\n",
    "d = dict()\n",
    "\n",
    "d = d.fromkeys(keyValueList)\n",
    "print(d)"
   ]
  },
  {
   "cell_type": "code",
   "execution_count": null,
   "metadata": {},
   "outputs": [
    {
     "name": "stdout",
     "output_type": "stream",
     "text": [
      "['Alice', 'Harry', 'James', 'Jhon', 'Joe', 'Ram']\n",
      "['Alice', 'Harry', 'James', 'Jhon', 'Joe', 'Ram']\n",
      "[('Alice', 56), ('Harry', 25), ('James', 97), ('Jhon', 34), ('Joe', 48), ('Ram', 23)]\n",
      "[23, 25, 34, 48, 56, 97]\n",
      "[('James', 97), ('Alice', 56), ('Joe', 48), ('Jhon', 34), ('Harry', 25), ('Ram', 23)]\n",
      "[('Alice', 56), ('Harry', 25), ('James', 97), ('Jhon', 34), ('Joe', 48), ('Ram', 23)]\n"
     ]
    }
   ],
   "source": [
    "#sorting dictionary\n",
    "from collections import OrderedDict\n",
    "\n",
    "d={'Jhon': 34, 'Ram': 23, 'Harry': 25, 'James': 97, 'Alice': 56, 'Joe': 48}\n",
    "l=sorted(d)#returns sorted list of key\n",
    "print(l)\n",
    "l=sorted(d.keys())#returns list of key\n",
    "print(l)\n",
    "l=sorted(d.items())#returns list of sorted key value pair\n",
    "print(l)\n",
    "l=sorted(d.values())#returns list of values\n",
    "print(l)\n",
    "l=sorted(d.items(), key=lambda x:x[1], reverse=True)#sort dictionary on value\n",
    "print(l)\n",
    "l=sorted(d.items(), key=lambda x:x[0])#sort dictionary on keys\n",
    "print(l)"
   ]
  },
  {
   "cell_type": "markdown",
   "metadata": {},
   "source": [
    "**Packages and Modules**"
   ]
  },
  {
   "cell_type": "code",
   "execution_count": null,
   "metadata": {},
   "outputs": [
    {
     "name": "stdout",
     "output_type": "stream",
     "text": [
      "{'name': 'Deepak', 'edu': 'B.Tech'}\n",
      "Hi Jaomese, Welcome to the world of Python!\n",
      "Windows\n",
      "['__builtins__', '__cached__', '__doc__', '__file__', '__loader__', '__name__', '__package__', '__spec__', 'dic', 'greetUser']\n",
      "['_Processor', '_WIN32_CLIENT_RELEASES', '_WIN32_SERVER_RELEASES', '__builtins__', '__cached__', '__copyright__', '__doc__', '__file__', '__loader__', '__name__', '__package__', '__spec__', '__version__', '_comparable_version', '_component_re', '_default_architecture', '_follow_symlinks', '_get_machine_win32', '_ironpython26_sys_version_parser', '_ironpython_sys_version_parser', '_java_getprop', '_libc_search', '_mac_ver_xml', '_node', '_norm_version', '_os_release_cache', '_os_release_candidates', '_os_release_line', '_os_release_unescape', '_parse_os_release', '_platform', '_platform_cache', '_pypy_sys_version_parser', '_sys_version', '_sys_version_cache', '_sys_version_parser', '_syscmd_file', '_syscmd_ver', '_uname_cache', '_unknown_as_blank', '_ver_output', '_ver_stages', 'architecture', 'collections', 'freedesktop_os_release', 'functools', 'itertools', 'java_ver', 'libc_ver', 'mac_ver', 'machine', 'node', 'os', 'platform', 'processor', 'python_branch', 'python_build', 'python_compiler', 'python_implementation', 'python_revision', 'python_version', 'python_version_tuple', 're', 'release', 'sys', 'system', 'system_alias', 'uname', 'uname_result', 'version', 'win32_edition', 'win32_is_iot', 'win32_ver']\n",
      "   December 2100\n",
      "Mo Tu We Th Fr Sa Su\n",
      "       1  2  3  4  5\n",
      " 6  7  8  9 10 11 12\n",
      "13 14 15 16 17 18 19\n",
      "20 21 22 23 24 25 26\n",
      "27 28 29 30 31\n",
      "\n"
     ]
    }
   ],
   "source": [
    "import MyModule as mm\n",
    "import platform\n",
    "import calendar\n",
    "\n",
    "print(mm.dic)\n",
    "name = input(\"Enter the name: \")\n",
    "\n",
    "mm.greetUser(name)\n",
    "\n",
    "print(platform.system())\n",
    "print(dir(mm))\n",
    "print(dir(platform))\n",
    "print(calendar.month(2100, 12))"
   ]
  },
  {
   "cell_type": "code",
   "execution_count": 9,
   "metadata": {},
   "outputs": [
    {
     "name": "stdout",
     "output_type": "stream",
     "text": [
      "Hi John, Welcome to the world of Python!\n",
      "{'name': 'Deepak', 'edu': 'B.Tech'}\n",
      "Aakash loves AB\n",
      "Aakash loves cd\n",
      "Aakash loves ef\n",
      "Aakash loves gh\n",
      "False\n"
     ]
    }
   ],
   "source": [
    "from MyModule import *\n",
    "from Aakash import *\n",
    "\n",
    "n = input(\"Enter the name: \")\n",
    "greetUser(n)\n",
    "print(dic)\n",
    "\n",
    "love('AB', 'cd', 'ef', 'gh')\n",
    "armstrongNum('121')"
   ]
  },
  {
   "cell_type": "markdown",
   "metadata": {},
   "source": [
    "***"
   ]
  },
  {
   "cell_type": "markdown",
   "metadata": {},
   "source": [
    "**Question Paper Important Questions**"
   ]
  },
  {
   "cell_type": "code",
   "execution_count": null,
   "metadata": {},
   "outputs": [],
   "source": [
    "#Q1\n",
    "def fibSeries(n:int):\n",
    "    if n <= 1:\n",
    "        return n\n",
    "    else:\n",
    "        return fibSeries(n - 1) + fibSeries(n - 2)\n",
    "    \n",
    "terms = int(input(\"Enter the number of terms: \"))\n",
    "if terms <= 0:\n",
    "    print(\"Enter a positive integer\")\n",
    "else:\n",
    "    for i in range(terms):\n",
    "        print(fibSeries(i), end=\" \")"
   ]
  },
  {
   "cell_type": "code",
   "execution_count": null,
   "metadata": {},
   "outputs": [],
   "source": [
    "#Q3\n",
    "n = int(input(\"Enter a number: \"))\n",
    "flag = 1\n",
    "\n",
    "for i in range(2, n):\n",
    "    if n % i == 0:\n",
    "        flag = 0\n",
    "        print(\"Not prime\")\n",
    "        break\n",
    "\n",
    "if flag == 1:\n",
    "    print(\"Prime\")\n"
   ]
  },
  {
   "cell_type": "code",
   "execution_count": null,
   "metadata": {},
   "outputs": [],
   "source": [
    "#Q4\n",
    "def armstrongNum(num:str):\n",
    "    sum = 0\n",
    "    for i in num:\n",
    "        sum += int(i) ** len(num)\n",
    "\n",
    "    if sum == int(num):\n",
    "        print(True)\n",
    "    else:\n",
    "        print(False)"
   ]
  },
  {
   "cell_type": "code",
   "execution_count": null,
   "metadata": {},
   "outputs": [],
   "source": [
    "#Q5\n",
    "import numpy as np\n",
    "\n",
    "m1 = np.array([[1, 2, 3],\n",
    "               [4, 5, 6]])\n",
    "\n",
    "m2 = np.array([[2, 0, 5],\n",
    "              [8, 2, 4]])\n",
    "\n",
    "m3 = np.array([[1, 3, 4],\n",
    "              [6, 8, 3],\n",
    "              [1, 0, 4]])\n",
    "\n",
    "mAdd = np.add(m1, m2)\n",
    "mMul = np.dot(m1, m3)\n",
    "mTrans = np.transpose(m1, m2)\n",
    "mDet = np.linalg.det(m1)\n",
    "mInv = np.linalg.inv(m1)\n"
   ]
  },
  {
   "cell_type": "code",
   "execution_count": null,
   "metadata": {},
   "outputs": [],
   "source": [
    "#Q6\n",
    "sent = input(\"Enter the word: \")\n",
    "print(sent[::-1])"
   ]
  },
  {
   "cell_type": "code",
   "execution_count": null,
   "metadata": {},
   "outputs": [],
   "source": [
    "#7\n",
    "a = 'Deepak'\n",
    "print(type(a))"
   ]
  },
  {
   "cell_type": "code",
   "execution_count": 13,
   "metadata": {},
   "outputs": [
    {
     "name": "stdout",
     "output_type": "stream",
     "text": [
      "120\n"
     ]
    }
   ],
   "source": [
    "#8\n",
    "def fact(n:int):\n",
    "    if n <= 1:\n",
    "        return n\n",
    "    else:\n",
    "        return n * fact(n - 1)\n",
    "    \n",
    "n = int(input(\"Enter the number: \"))\n",
    "\n",
    "if n < 0:\n",
    "    print(\"Enter positive:\")\n",
    "else:\n",
    "    print(fact(n))"
   ]
  },
  {
   "cell_type": "code",
   "execution_count": 14,
   "metadata": {},
   "outputs": [
    {
     "name": "stdout",
     "output_type": "stream",
     "text": [
      "      *\n",
      "     ***\n",
      "    *****\n",
      "   *******\n",
      "  *********\n",
      "   *******\n",
      "    *****\n",
      "     ***\n",
      "      *\n"
     ]
    }
   ],
   "source": [
    "#Q12\n",
    "h = int(input(\"Enter height of diamond: \"))\n",
    "\n",
    "for i in range(h):\n",
    "    print(\" \"*(h-i), \"*\"*(i*2+1))\n",
    "for i in range(h-2, -1, -1):\n",
    "    print(\" \"*(h-i), \"*\"*(i*2+1))"
   ]
  }
 ],
 "metadata": {
  "kernelspec": {
   "display_name": "Python 3",
   "language": "python",
   "name": "python3"
  },
  "language_info": {
   "codemirror_mode": {
    "name": "ipython",
    "version": 3
   },
   "file_extension": ".py",
   "mimetype": "text/x-python",
   "name": "python",
   "nbconvert_exporter": "python",
   "pygments_lexer": "ipython3",
   "version": "3.11.5"
  }
 },
 "nbformat": 4,
 "nbformat_minor": 2
}
