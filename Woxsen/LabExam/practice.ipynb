{
 "cells": [
  {
   "cell_type": "code",
   "execution_count": 2,
   "metadata": {},
   "outputs": [],
   "source": [
    "import json, csv, string"
   ]
  },
  {
   "cell_type": "markdown",
   "metadata": {},
   "source": [
    "**JSON**"
   ]
  },
  {
   "cell_type": "code",
   "execution_count": 3,
   "metadata": {},
   "outputs": [
    {
     "name": "stdout",
     "output_type": "stream",
     "text": [
      "[{'name': 'Ankush', 'empId': 1}, {'name': 'Amlan', 'empId': 2}]\n"
     ]
    }
   ],
   "source": [
    "dic1 = '{\"users\" : [{\"name\" : \"Ankush\", \"empId\" : 1}, {\"name\" : \"Amlan\", \"empId\" : 2}]}'\n",
    "dic2 = {\n",
    "    'score' : 98,\n",
    "    'test' : 'Maths',\n",
    "    'marks' : 34,\n",
    "    'random' : 'kumar'\n",
    "}\n",
    "\n",
    "\n",
    "# with open('jsonFile1.json', 'w') as jf:\n",
    "#     jf.write(json.dumps(dic1))\n",
    "#     json.dump(dic1, jf)\n",
    "y = json.loads(dic1)\n",
    "print(y['users'])\n",
    "\n",
    "# with open('jsonFile1.json', 'r') as js:\n",
    "#     contents = json.load(js)\n",
    "#     contents = json.loads(js.read())\n",
    "#     print(contents)\n"
   ]
  },
  {
   "cell_type": "markdown",
   "metadata": {},
   "source": [
    "**CSV**"
   ]
  },
  {
   "cell_type": "code",
   "execution_count": 4,
   "metadata": {},
   "outputs": [],
   "source": [
    "fields = ['Name', 'Subject', 'Marks']\n",
    "rows = [{'Name' : 'Deepak', 'Subject' : 'EM', 'Marks' : 93},\n",
    "        {'Name' : 'Shankar Rao', 'Subject' : 'CTPS', 'Marks' : 10},\n",
    "        {'Name' : 'Venkat Narayana', 'Subject' : 'Chemistry', 'Marks' : -10}]\n",
    "\n",
    "with open('csvFile.csv', 'w') as cf:\n",
    "    cfw = csv.DictWriter(cf, fieldnames=fields)\n",
    "    cfw.writeheader()\n",
    "    cfw.writerows(rows)"
   ]
  },
  {
   "cell_type": "markdown",
   "metadata": {},
   "source": [
    "**Lab_5_A2**"
   ]
  },
  {
   "cell_type": "code",
   "execution_count": 5,
   "metadata": {},
   "outputs": [
    {
     "name": "stdout",
     "output_type": "stream",
     "text": [
      "1001 : John\n",
      "1002 : Jill\n",
      "1003 : Joe\n",
      "1004 : Jack\n"
     ]
    }
   ],
   "source": [
    "with open('CustomerDetails.json', 'r') as jf:\n",
    "    content = json.load(jf)\n",
    "    for i in content:\n",
    "        print(f'{i} : {content[i]}')"
   ]
  },
  {
   "cell_type": "markdown",
   "metadata": {},
   "source": [
    "**Lab_3_A2**"
   ]
  },
  {
   "cell_type": "code",
   "execution_count": 11,
   "metadata": {},
   "outputs": [
    {
     "name": "stdout",
     "output_type": "stream",
     "text": [
      "['Python', 'Programming', 'is', 'fun']\n",
      "fun is Programming Python \n"
     ]
    }
   ],
   "source": [
    "#Q8\n",
    "str = 'Python Programming is fun'\n",
    "\n",
    "word = \"\"\n",
    "strList = []\n",
    "for i in str:\n",
    "    if i == \" \":\n",
    "        strList.append(word)\n",
    "        word = \"\"\n",
    "    else:\n",
    "        word += i\n",
    "\n",
    "strList.append(word)\n",
    "\n",
    "print(strList)\n",
    "\n",
    "reverseString = \"\"\n",
    "for j in strList[::-1]:\n",
    "    reverseString += j + \" \"\n",
    "\n",
    "print(reverseString)\n"
   ]
  },
  {
   "cell_type": "code",
   "execution_count": 4,
   "metadata": {},
   "outputs": [
    {
     "name": "stdout",
     "output_type": "stream",
     "text": [
      "TeThehises ises sesamempeplele sestetrerinengeg\n"
     ]
    }
   ],
   "source": [
    "#Q7\n",
    "str = \"This is sample string\"\n",
    "\n",
    "encryptedStr = \"\"\n",
    "\n",
    "for i in str:\n",
    "    if (i.lower() not in \"aeiou\") and (i.lower() in string.ascii_lowercase):\n",
    "        encryptedStr += i + 'e' + i\n",
    "    else:\n",
    "        encryptedStr += i\n",
    "\n",
    "print(encryptedStr)"
   ]
  },
  {
   "cell_type": "code",
   "execution_count": 5,
   "metadata": {},
   "outputs": [
    {
     "name": "stdout",
     "output_type": "stream",
     "text": [
      "tHiS Is sAmPLE stRING\n"
     ]
    }
   ],
   "source": [
    "#Q6\n",
    "str = \"ThIs iS SaMple STring\"\n",
    "modStr = \"\"\n",
    "\n",
    "for i in str:\n",
    "    if i in string.ascii_lowercase:\n",
    "        modStr += i.upper()\n",
    "    elif i in string.ascii_uppercase:\n",
    "        modStr += i.lower()\n",
    "    else:\n",
    "        modStr += i\n",
    "\n",
    "print(modStr)"
   ]
  },
  {
   "cell_type": "code",
   "execution_count": 8,
   "metadata": {},
   "outputs": [
    {
     "name": "stdout",
     "output_type": "stream",
     "text": [
      "Hello world, T$is is pyt$on class\n"
     ]
    }
   ],
   "source": [
    "#Q3\n",
    "str = \"Hello world, This is python class\"\n",
    "strList = list(str)\n",
    "\n",
    "for i in range(1, len(strList)):\n",
    "    if strList[i] in [strList[0].upper(), strList[0].lower()]:\n",
    "        strList[i] = '$'\n",
    "\n",
    "modStr = \"\"\n",
    "for j in strList:\n",
    "    modStr += j\n",
    "\n",
    "print(modStr)"
   ]
  },
  {
   "cell_type": "code",
   "execution_count": null,
   "metadata": {},
   "outputs": [],
   "source": []
  }
 ],
 "metadata": {
  "kernelspec": {
   "display_name": "Python 3",
   "language": "python",
   "name": "python3"
  },
  "language_info": {
   "codemirror_mode": {
    "name": "ipython",
    "version": 3
   },
   "file_extension": ".py",
   "mimetype": "text/x-python",
   "name": "python",
   "nbconvert_exporter": "python",
   "pygments_lexer": "ipython3",
   "version": "3.11.5"
  }
 },
 "nbformat": 4,
 "nbformat_minor": 2
}
