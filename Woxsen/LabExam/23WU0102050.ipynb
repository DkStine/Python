{
 "cells": [
  {
   "cell_type": "markdown",
   "metadata": {},
   "source": [
    "**Deepak Kumar_23WU0102050**"
   ]
  },
  {
   "cell_type": "code",
   "execution_count": 10,
   "metadata": {},
   "outputs": [
    {
     "name": "stdout",
     "output_type": "stream",
     "text": [
      "pIXAR PRESENTS \"pYTHONISTS 2\"\n"
     ]
    }
   ],
   "source": [
    "#Q1\n",
    "import string\n",
    "\n",
    "def swap_case(str : str):\n",
    "    strList = list(str)\n",
    "    modStr = \"\"\n",
    "\n",
    "    for i in range(len(strList)):\n",
    "        if strList[i] in string.ascii_lowercase:\n",
    "            strList[i] = strList[i].upper()\n",
    "        elif strList[i] in string.ascii_uppercase:\n",
    "            strList[i] = strList[i].lower()\n",
    "\n",
    "    for j in strList:\n",
    "        modStr += j\n",
    "\n",
    "    return modStr\n",
    "\n",
    "sent = input(\"Enter the sentence: \")\n",
    "rev = swap_case(sent)\n",
    "print(rev)\n"
   ]
  },
  {
   "cell_type": "code",
   "execution_count": 11,
   "metadata": {},
   "outputs": [
    {
     "name": "stdout",
     "output_type": "stream",
     "text": [
      "2A\n",
      "3B\n",
      "2C\n",
      "1G\n"
     ]
    }
   ],
   "source": [
    "#Q2\n",
    "def letterCount(str: str):\n",
    "    letterDict = {}\n",
    "\n",
    "    for i in str.upper():\n",
    "        if i in letterDict:\n",
    "            letterDict[i] += 1\n",
    "        else:\n",
    "            letterDict[i] = 1\n",
    "\n",
    "    for j in letterDict:\n",
    "        print(f\"{letterDict[j]}{j}\")\n",
    "\n",
    "txt = input(\"Enter the string: \")\n",
    "letterCount(txt)"
   ]
  },
  {
   "cell_type": "code",
   "execution_count": 32,
   "metadata": {},
   "outputs": [],
   "source": [
    "#Q3\n",
    "import csv\n",
    "\n",
    "with open('question3.txt', 'r') as tp:\n",
    "    lines = tp.readlines()\n",
    "    lineList = []\n",
    "    countDict = {}\n",
    "\n",
    "    for i in lines:\n",
    "        i = i.strip('\\n')\n",
    "        countDict[i] = 0\n",
    "        lineList.append(i.split(', '))\n",
    "\n",
    "    subsCountList = []\n",
    "\n",
    "    for k in lineList:\n",
    "        subsCount = 0\n",
    "        for j in range(len(k)):\n",
    "            if int(k[j]) == j:\n",
    "                subsCount += 1\n",
    "        subsCountList.append(subsCount)\n",
    "\n",
    "    csvWriteList = []\n",
    "\n",
    "    for l in range(len(lines)):\n",
    "        line = lines[l].strip('\\n')\n",
    "        csvWriteList.append([line, subsCountList[l]])\n",
    "\n",
    "    with open('question3.csv', 'w') as cp:\n",
    "        cpw = csv.writer(cp)\n",
    "        cpw.writerows(csvWriteList)\n",
    "\n"
   ]
  },
  {
   "cell_type": "code",
   "execution_count": 13,
   "metadata": {},
   "outputs": [
    {
     "name": "stdout",
     "output_type": "stream",
     "text": [
      "fun is programming Python \n"
     ]
    }
   ],
   "source": [
    "#Q4\n",
    "def revSentence(str : str):\n",
    "    word = \"\"\n",
    "    wordList = []\n",
    "\n",
    "    for i in str:\n",
    "        if i == ' ':\n",
    "            wordList.append(word)\n",
    "            word = \"\"\n",
    "        else:\n",
    "            word += i\n",
    "    \n",
    "    wordList.append(word)\n",
    "    wordList = wordList[::-1]\n",
    "\n",
    "    revStr = \"\"\n",
    "    for j in wordList:\n",
    "        revStr += j + ' '\n",
    "\n",
    "    return revStr\n",
    "\n",
    "sentence = input(\"Enter the sentence: \")\n",
    "reverseSentence = revSentence(sentence)\n",
    "print(reverseSentence)"
   ]
  }
 ],
 "metadata": {
  "kernelspec": {
   "display_name": "Python 3",
   "language": "python",
   "name": "python3"
  },
  "language_info": {
   "codemirror_mode": {
    "name": "ipython",
    "version": 3
   },
   "file_extension": ".py",
   "mimetype": "text/x-python",
   "name": "python",
   "nbconvert_exporter": "python",
   "pygments_lexer": "ipython3",
   "version": "3.11.5"
  }
 },
 "nbformat": 4,
 "nbformat_minor": 2
}
