{
 "cells": [
  {
   "cell_type": "code",
   "execution_count": 13,
   "metadata": {},
   "outputs": [],
   "source": [
    "def printLyrics():\n",
    "    print(\"I'm a lumberjack, and I'm okay\")\n",
    "\n",
    "def myFunction():\n",
    "    print(\"Hello from my function!\")\n",
    "\n",
    "def myFunctionWithArgs(username = \"Deepak\", greeting = \"Good morning\"):\n",
    "    print(f'Hello {username}, from my function, I wish you {greeting}')\n",
    "    print(\"Hello\", username, \"from my function, I wish you\", greeting)\n",
    "\n",
    "def getDetails(name, age, country):\n",
    "    print(f\"{name} is from {country} and is {age} years old\")\n",
    "    return name, age, country\n"
   ]
  },
  {
   "cell_type": "code",
   "execution_count": 10,
   "metadata": {},
   "outputs": [
    {
     "name": "stdout",
     "output_type": "stream",
     "text": [
      "I'm a lumberjack, and I'm okay\n",
      "Hello from my function!\n",
      "Hello Bishal, from my function, I wish you Good morning\n"
     ]
    }
   ],
   "source": [
    "printLyrics()\n",
    "myFunction()\n",
    "myFunctionWithArgs(\"Bishal\")"
   ]
  },
  {
   "cell_type": "code",
   "execution_count": 14,
   "metadata": {},
   "outputs": [
    {
     "name": "stdout",
     "output_type": "stream",
     "text": [
      "Deepak is from India and is 18 years old\n",
      "Deepak 18 India\n"
     ]
    }
   ],
   "source": [
    "name, age, country = map(str, input(\"Enter your first name, age and country separated by space: \").split())\n",
    "\n",
    "n, a, c = getDetails(name, age, country)\n",
    "print(n, a, c)"
   ]
  },
  {
   "cell_type": "markdown",
   "metadata": {},
   "source": [
    "*Italics*\n",
    "**Bold**\n",
    "```True```"
   ]
  },
  {
   "cell_type": "code",
   "execution_count": 15,
   "metadata": {},
   "outputs": [
    {
     "name": "stdout",
     "output_type": "stream",
     "text": [
      "I'm a lumberjack, and I'm OK.\n"
     ]
    }
   ],
   "source": [
    "print(\"I'm a lumberjack, and I'm OK.\")"
   ]
  },
  {
   "cell_type": "code",
   "execution_count": 3,
   "metadata": {},
   "outputs": [
    {
     "name": "stdout",
     "output_type": "stream",
     "text": [
      "e k\n"
     ]
    }
   ],
   "source": [
    "string = \"Deepak\"\n",
    "\n",
    "print(string[1], string[-1])"
   ]
  },
  {
   "cell_type": "code",
   "execution_count": 2,
   "metadata": {},
   "outputs": [
    {
     "name": "stdout",
     "output_type": "stream",
     "text": [
      "100.0\n"
     ]
    }
   ],
   "source": [
    "def squareRoot(n):\n",
    "    x = n\n",
    "\n",
    "    for i in range(25):\n",
    "        x = 0.5 * ( x + n / x)\n",
    "    \n",
    "    return x\n",
    "\n",
    "print(squareRoot(10000))"
   ]
  },
  {
   "cell_type": "code",
   "execution_count": 3,
   "metadata": {},
   "outputs": [
    {
     "name": "stdout",
     "output_type": "stream",
     "text": [
      "1 3\n"
     ]
    }
   ],
   "source": [
    "def calcDist(p1, p2):\n",
    "    x1, y1 = p1\n",
    "    x2, y2 = p2\n",
    "\n",
    "    print(x1, x2)\n",
    "\n",
    "calcDist((1, 2), (3, 4))\n"
   ]
  }
 ],
 "metadata": {
  "kernelspec": {
   "display_name": "Python 3",
   "language": "python",
   "name": "python3"
  },
  "language_info": {
   "codemirror_mode": {
    "name": "ipython",
    "version": 3
   },
   "file_extension": ".py",
   "mimetype": "text/x-python",
   "name": "python",
   "nbconvert_exporter": "python",
   "pygments_lexer": "ipython3",
   "version": "3.11.5"
  }
 },
 "nbformat": 4,
 "nbformat_minor": 2
}
