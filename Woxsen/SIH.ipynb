{
 "cells": [
  {
   "cell_type": "code",
   "execution_count": 1,
   "metadata": {},
   "outputs": [],
   "source": [
    "import numpy as np"
   ]
  },
  {
   "cell_type": "code",
   "execution_count": null,
   "metadata": {},
   "outputs": [],
   "source": [
    "arr1 = np.array([[1, 2, 3],\n",
    "               [4, 5, 6],\n",
    "               [8, 9, 10]], dtype=np.int64)\n",
    "arr2 = np.array([[14, 2, 3],\n",
    "               [3, 5, 6],\n",
    "               [8, 90, 1]], dtype= np.int64)\n",
    "\n",
    "print(f'Original array one:\\n {arr1} \\n\\n')\n",
    "print(f'Original array two:\\n {arr2} \\n\\n')\n",
    "\n",
    "print(f'Addition of elements:\\n {np.sum(arr1)}')\n",
    "print(f'Addition of arrays:\\n {np.add(arr1, arr2)}')\n",
    "print(f'squareRoot:\\n {np.sqrt(arr1)}')\n",
    "print(f'Rank: {}')\n",
    "\n"
   ]
  }
 ],
 "metadata": {
  "kernelspec": {
   "display_name": "Python 3",
   "language": "python",
   "name": "python3"
  },
  "language_info": {
   "codemirror_mode": {
    "name": "ipython",
    "version": 3
   },
   "file_extension": ".py",
   "mimetype": "text/x-python",
   "name": "python",
   "nbconvert_exporter": "python",
   "pygments_lexer": "ipython3",
   "version": "3.10.4"
  },
  "orig_nbformat": 4
 },
 "nbformat": 4,
 "nbformat_minor": 2
}
