{
 "cells": [
  {
   "cell_type": "code",
   "execution_count": 1,
   "metadata": {},
   "outputs": [
    {
     "name": "stdout",
     "output_type": "stream",
     "text": [
      "Following is the breadth-First Search\n",
      "5\n",
      "2\n",
      "3\n",
      "1\n",
      "4\n",
      "6\n"
     ]
    }
   ],
   "source": [
    "def bfs(graph, start_node):\n",
    "    queue =[start_node]\n",
    "    visited = set([start_node])\n",
    "\n",
    "    while queue:\n",
    "        node = queue.pop(0)\n",
    "        print(node)         \n",
    "\n",
    "        for neighbor in graph[node]:\n",
    "            if neighbor not in visited:\n",
    "                visited.add(neighbor)\n",
    "                queue.append(neighbor)\n",
    "\n",
    "# Example usage\n",
    "graph = {\n",
    "    '1' : ['2','3','4'],\n",
    "    '2' : ['1','5'],\n",
    "    '3' : ['1','4','5','6'],\n",
    "    '4' : ['1','3','6'],\n",
    "    '5' : ['2','3'],\n",
    "    '6' : ['3','4']\n",
    "}\n",
    "\n",
    "start_node = '5'\n",
    "print(\"Following is the breadth-First Search\")\n",
    "bfs(graph, start_node)"
   ]
  }
 ],
 "metadata": {
  "kernelspec": {
   "display_name": "Python 3",
   "language": "python",
   "name": "python3"
  },
  "language_info": {
   "codemirror_mode": {
    "name": "ipython",
    "version": 3
   },
   "file_extension": ".py",
   "mimetype": "text/x-python",
   "name": "python",
   "nbconvert_exporter": "python",
   "pygments_lexer": "ipython3",
   "version": "3.11.5"
  }
 },
 "nbformat": 4,
 "nbformat_minor": 2
}
