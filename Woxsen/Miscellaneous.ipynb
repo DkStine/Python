{
 "cells": [
  {
   "cell_type": "code",
   "execution_count": 13,
   "metadata": {},
   "outputs": [],
   "source": [
    "def printLyrics():\n",
    "    print(\"I'm a lumberjack, and I'm okay\")\n",
    "\n",
    "def myFunction():\n",
    "    print(\"Hello from my function!\")\n",
    "\n",
    "def myFunctionWithArgs(username = \"Deepak\", greeting = \"Good morning\"):\n",
    "    print(f'Hello {username}, from my function, I wish you {greeting}')\n",
    "    print(\"Hello\", username, \"from my function, I wish you\", greeting)\n",
    "\n",
    "def getDetails(name, age, country):\n",
    "    print(f\"{name} is from {country} and is {age} years old\")\n",
    "    return name, age, country\n"
   ]
  },
  {
   "cell_type": "code",
   "execution_count": 10,
   "metadata": {},
   "outputs": [
    {
     "name": "stdout",
     "output_type": "stream",
     "text": [
      "I'm a lumberjack, and I'm okay\n",
      "Hello from my function!\n",
      "Hello Bishal, from my function, I wish you Good morning\n"
     ]
    }
   ],
   "source": [
    "printLyrics()\n",
    "myFunction()\n",
    "myFunctionWithArgs(\"Bishal\")"
   ]
  },
  {
   "cell_type": "code",
   "execution_count": 14,
   "metadata": {},
   "outputs": [
    {
     "name": "stdout",
     "output_type": "stream",
     "text": [
      "Deepak is from India and is 18 years old\n",
      "Deepak 18 India\n"
     ]
    }
   ],
   "source": [
    "name, age, country = map(str, input(\"Enter your first name, age and country separated by space: \").split())\n",
    "\n",
    "n, a, c = getDetails(name, age, country)\n",
    "print(n, a, c)"
   ]
  },
  {
   "cell_type": "markdown",
   "metadata": {},
   "source": [
    "*Italics*\n",
    "**Bold**\n",
    "```True```"
   ]
  },
  {
   "cell_type": "code",
   "execution_count": 15,
   "metadata": {},
   "outputs": [
    {
     "name": "stdout",
     "output_type": "stream",
     "text": [
      "I'm a lumberjack, and I'm OK.\n"
     ]
    }
   ],
   "source": [
    "print(\"I'm a lumberjack, and I'm OK.\")"
   ]
  },
  {
   "cell_type": "code",
   "execution_count": 3,
   "metadata": {},
   "outputs": [
    {
     "name": "stdout",
     "output_type": "stream",
     "text": [
      "e k\n"
     ]
    }
   ],
   "source": [
    "string = \"Deepak\"\n",
    "\n",
    "print(string[1], string[-1])"
   ]
  },
  {
   "cell_type": "code",
   "execution_count": 2,
   "metadata": {},
   "outputs": [
    {
     "name": "stdout",
     "output_type": "stream",
     "text": [
      "100.0\n"
     ]
    }
   ],
   "source": [
    "def squareRoot(n):\n",
    "    x = n\n",
    "\n",
    "    for i in range(25):\n",
    "        x = 0.5 * ( x + n / x)\n",
    "    \n",
    "    return x\n",
    "\n",
    "print(squareRoot(10000))"
   ]
  },
  {
   "cell_type": "code",
   "execution_count": 3,
   "metadata": {},
   "outputs": [
    {
     "name": "stdout",
     "output_type": "stream",
     "text": [
      "1 3\n"
     ]
    }
   ],
   "source": [
    "def calcDist(p1, p2):\n",
    "    x1, y1 = p1\n",
    "    x2, y2 = p2\n",
    "\n",
    "    print(x1, x2)\n",
    "\n",
    "calcDist((1, 2), (3, 4))\n"
   ]
  },
  {
   "cell_type": "code",
   "execution_count": 3,
   "metadata": {},
   "outputs": [
    {
     "name": "stdout",
     "output_type": "stream",
     "text": [
      "0\n",
      "1\n",
      "2\n",
      "3\n",
      "4\n",
      "5\n"
     ]
    },
    {
     "ename": "KeyboardInterrupt",
     "evalue": "",
     "output_type": "error",
     "traceback": [
      "\u001b[1;31m---------------------------------------------------------------------------\u001b[0m",
      "\u001b[1;31mKeyboardInterrupt\u001b[0m                         Traceback (most recent call last)",
      "\u001b[1;32md:\\Programming\\Python\\Woxsen\\Miscellaneous.ipynb Cell 9\u001b[0m line \u001b[0;36m4\n\u001b[0;32m      <a href='vscode-notebook-cell:/d%3A/Programming/Python/Woxsen/Miscellaneous.ipynb#X11sZmlsZQ%3D%3D?line=0'>1</a>\u001b[0m i \u001b[39m=\u001b[39m \u001b[39m0\u001b[39m\n\u001b[0;32m      <a href='vscode-notebook-cell:/d%3A/Programming/Python/Woxsen/Miscellaneous.ipynb#X11sZmlsZQ%3D%3D?line=2'>3</a>\u001b[0m \u001b[39mwhile\u001b[39;00m i \u001b[39m>\u001b[39m\u001b[39m=\u001b[39m \u001b[39m0\u001b[39m:\n\u001b[1;32m----> <a href='vscode-notebook-cell:/d%3A/Programming/Python/Woxsen/Miscellaneous.ipynb#X11sZmlsZQ%3D%3D?line=3'>4</a>\u001b[0m     \u001b[39mif\u001b[39;00m \u001b[39m38116246550944\u001b[39m \u001b[39m%\u001b[39m (\u001b[39m2\u001b[39;49m \u001b[39m*\u001b[39;49m\u001b[39m*\u001b[39;49m i) \u001b[39m==\u001b[39m \u001b[39m0\u001b[39m:\n\u001b[0;32m      <a href='vscode-notebook-cell:/d%3A/Programming/Python/Woxsen/Miscellaneous.ipynb#X11sZmlsZQ%3D%3D?line=4'>5</a>\u001b[0m         \u001b[39mprint\u001b[39m(i)\n\u001b[0;32m      <a href='vscode-notebook-cell:/d%3A/Programming/Python/Woxsen/Miscellaneous.ipynb#X11sZmlsZQ%3D%3D?line=5'>6</a>\u001b[0m     i \u001b[39m+\u001b[39m\u001b[39m=\u001b[39m \u001b[39m1\u001b[39m\n",
      "\u001b[1;31mKeyboardInterrupt\u001b[0m: "
     ]
    }
   ],
   "source": [
    "i = 0\n",
    "\n",
    "while i >= 0:\n",
    "    if 38116246550944 % (2 ** i) == 0:\n",
    "        print(i)\n",
    "    i += 1\n"
   ]
  },
  {
   "cell_type": "code",
   "execution_count": 5,
   "metadata": {},
   "outputs": [
    {
     "name": "stdout",
     "output_type": "stream",
     "text": [
      "65539\n",
      "0b1000000000000000000000000000000000000000000000000000000001011\n"
     ]
    }
   ],
   "source": [
    "print(int(\"10000000000000011\", 2))\n",
    "print(bin(1152921504606846987))"
   ]
  }
 ],
 "metadata": {
  "kernelspec": {
   "display_name": "Python 3",
   "language": "python",
   "name": "python3"
  },
  "language_info": {
   "codemirror_mode": {
    "name": "ipython",
    "version": 3
   },
   "file_extension": ".py",
   "mimetype": "text/x-python",
   "name": "python",
   "nbconvert_exporter": "python",
   "pygments_lexer": "ipython3",
   "version": "3.11.5"
  }
 },
 "nbformat": 4,
 "nbformat_minor": 2
}
